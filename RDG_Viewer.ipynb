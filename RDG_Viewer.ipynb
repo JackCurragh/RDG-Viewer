{
  "nbformat": 4,
  "nbformat_minor": 0,
  "metadata": {
    "colab": {
      "provenance": [],
      "authorship_tag": "ABX9TyMSJU1yfrWoYm5REp/xsStf",
      "include_colab_link": true
    },
    "kernelspec": {
      "name": "python3",
      "display_name": "Python 3"
    },
    "language_info": {
      "name": "python"
    },
    "widgets": {
      "application/vnd.jupyter.widget-state+json": {
        "d55ab9e1da894df4a29009a3c55fb5f5": {
          "model_module": "@jupyter-widgets/controls",
          "model_name": "FloatRangeSliderModel",
          "model_module_version": "1.5.0",
          "state": {
            "_dom_classes": [],
            "_model_module": "@jupyter-widgets/controls",
            "_model_module_version": "1.5.0",
            "_model_name": "FloatRangeSliderModel",
            "_view_count": null,
            "_view_module": "@jupyter-widgets/controls",
            "_view_module_version": "1.5.0",
            "_view_name": "FloatRangeSliderView",
            "continuous_update": false,
            "description": "Translon 1:",
            "description_tooltip": null,
            "disabled": false,
            "layout": "IPY_MODEL_3b88fe5c11ec435c97877d4d361d43a0",
            "max": 3000,
            "min": 0,
            "orientation": "horizontal",
            "readout": true,
            "readout_format": ".1f",
            "step": 1,
            "style": "IPY_MODEL_e91a875b192146fb8ca813d20804559b",
            "value": [
              486,
              649
            ]
          }
        },
        "3b88fe5c11ec435c97877d4d361d43a0": {
          "model_module": "@jupyter-widgets/base",
          "model_name": "LayoutModel",
          "model_module_version": "1.2.0",
          "state": {
            "_model_module": "@jupyter-widgets/base",
            "_model_module_version": "1.2.0",
            "_model_name": "LayoutModel",
            "_view_count": null,
            "_view_module": "@jupyter-widgets/base",
            "_view_module_version": "1.2.0",
            "_view_name": "LayoutView",
            "align_content": null,
            "align_items": null,
            "align_self": null,
            "border": null,
            "bottom": null,
            "display": null,
            "flex": null,
            "flex_flow": null,
            "grid_area": null,
            "grid_auto_columns": null,
            "grid_auto_flow": null,
            "grid_auto_rows": null,
            "grid_column": null,
            "grid_gap": null,
            "grid_row": null,
            "grid_template_areas": null,
            "grid_template_columns": null,
            "grid_template_rows": null,
            "height": "40px",
            "justify_content": null,
            "justify_items": null,
            "left": null,
            "margin": null,
            "max_height": null,
            "max_width": null,
            "min_height": null,
            "min_width": null,
            "object_fit": null,
            "object_position": null,
            "order": null,
            "overflow": null,
            "overflow_x": null,
            "overflow_y": null,
            "padding": null,
            "right": null,
            "top": null,
            "visibility": null,
            "width": "50%"
          }
        },
        "e91a875b192146fb8ca813d20804559b": {
          "model_module": "@jupyter-widgets/controls",
          "model_name": "SliderStyleModel",
          "model_module_version": "1.5.0",
          "state": {
            "_model_module": "@jupyter-widgets/controls",
            "_model_module_version": "1.5.0",
            "_model_name": "SliderStyleModel",
            "_view_count": null,
            "_view_module": "@jupyter-widgets/base",
            "_view_module_version": "1.2.0",
            "_view_name": "StyleView",
            "description_width": "",
            "handle_color": null
          }
        },
        "11527e3d30b44ff59f9cd4061702242b": {
          "model_module": "@jupyter-widgets/controls",
          "model_name": "FloatRangeSliderModel",
          "model_module_version": "1.5.0",
          "state": {
            "_dom_classes": [],
            "_model_module": "@jupyter-widgets/controls",
            "_model_module_version": "1.5.0",
            "_model_name": "FloatRangeSliderModel",
            "_view_count": null,
            "_view_module": "@jupyter-widgets/controls",
            "_view_module_version": "1.5.0",
            "_view_name": "FloatRangeSliderView",
            "continuous_update": false,
            "description": "Translon 2:",
            "description_tooltip": null,
            "disabled": false,
            "layout": "IPY_MODEL_e45e512e2aa7442c8e0bc4a8110846cd",
            "max": 3000,
            "min": 0,
            "orientation": "horizontal",
            "readout": true,
            "readout_format": ".1f",
            "step": 1,
            "style": "IPY_MODEL_083a08aac4284a7bb97f058e73b388fe",
            "value": [
              700,
              891
            ]
          }
        },
        "e45e512e2aa7442c8e0bc4a8110846cd": {
          "model_module": "@jupyter-widgets/base",
          "model_name": "LayoutModel",
          "model_module_version": "1.2.0",
          "state": {
            "_model_module": "@jupyter-widgets/base",
            "_model_module_version": "1.2.0",
            "_model_name": "LayoutModel",
            "_view_count": null,
            "_view_module": "@jupyter-widgets/base",
            "_view_module_version": "1.2.0",
            "_view_name": "LayoutView",
            "align_content": null,
            "align_items": null,
            "align_self": null,
            "border": null,
            "bottom": null,
            "display": null,
            "flex": null,
            "flex_flow": null,
            "grid_area": null,
            "grid_auto_columns": null,
            "grid_auto_flow": null,
            "grid_auto_rows": null,
            "grid_column": null,
            "grid_gap": null,
            "grid_row": null,
            "grid_template_areas": null,
            "grid_template_columns": null,
            "grid_template_rows": null,
            "height": "40px",
            "justify_content": null,
            "justify_items": null,
            "left": null,
            "margin": null,
            "max_height": null,
            "max_width": null,
            "min_height": null,
            "min_width": null,
            "object_fit": null,
            "object_position": null,
            "order": null,
            "overflow": null,
            "overflow_x": null,
            "overflow_y": null,
            "padding": null,
            "right": null,
            "top": null,
            "visibility": null,
            "width": "50%"
          }
        },
        "083a08aac4284a7bb97f058e73b388fe": {
          "model_module": "@jupyter-widgets/controls",
          "model_name": "SliderStyleModel",
          "model_module_version": "1.5.0",
          "state": {
            "_model_module": "@jupyter-widgets/controls",
            "_model_module_version": "1.5.0",
            "_model_name": "SliderStyleModel",
            "_view_count": null,
            "_view_module": "@jupyter-widgets/base",
            "_view_module_version": "1.2.0",
            "_view_name": "StyleView",
            "description_width": "",
            "handle_color": null
          }
        },
        "01699afa6eb54ac19e6142ee4ffb4c05": {
          "model_module": "@jupyter-widgets/controls",
          "model_name": "FloatRangeSliderModel",
          "model_module_version": "1.5.0",
          "state": {
            "_dom_classes": [],
            "_model_module": "@jupyter-widgets/controls",
            "_model_module_version": "1.5.0",
            "_model_name": "FloatRangeSliderModel",
            "_view_count": null,
            "_view_module": "@jupyter-widgets/controls",
            "_view_module_version": "1.5.0",
            "_view_name": "FloatRangeSliderView",
            "continuous_update": false,
            "description": "Translon 3:",
            "description_tooltip": null,
            "disabled": false,
            "layout": "IPY_MODEL_63e4c4481dcb487ca3a2bdf6539ada60",
            "max": 3000,
            "min": 0,
            "orientation": "horizontal",
            "readout": true,
            "readout_format": ".1f",
            "step": 1,
            "style": "IPY_MODEL_2f6866bb646c497b8c2520d008293fd5",
            "value": [
              888,
              1943
            ]
          }
        },
        "63e4c4481dcb487ca3a2bdf6539ada60": {
          "model_module": "@jupyter-widgets/base",
          "model_name": "LayoutModel",
          "model_module_version": "1.2.0",
          "state": {
            "_model_module": "@jupyter-widgets/base",
            "_model_module_version": "1.2.0",
            "_model_name": "LayoutModel",
            "_view_count": null,
            "_view_module": "@jupyter-widgets/base",
            "_view_module_version": "1.2.0",
            "_view_name": "LayoutView",
            "align_content": null,
            "align_items": null,
            "align_self": null,
            "border": null,
            "bottom": null,
            "display": null,
            "flex": null,
            "flex_flow": null,
            "grid_area": null,
            "grid_auto_columns": null,
            "grid_auto_flow": null,
            "grid_auto_rows": null,
            "grid_column": null,
            "grid_gap": null,
            "grid_row": null,
            "grid_template_areas": null,
            "grid_template_columns": null,
            "grid_template_rows": null,
            "height": "40px",
            "justify_content": null,
            "justify_items": null,
            "left": null,
            "margin": null,
            "max_height": null,
            "max_width": null,
            "min_height": null,
            "min_width": null,
            "object_fit": null,
            "object_position": null,
            "order": null,
            "overflow": null,
            "overflow_x": null,
            "overflow_y": null,
            "padding": null,
            "right": null,
            "top": null,
            "visibility": null,
            "width": "50%"
          }
        },
        "2f6866bb646c497b8c2520d008293fd5": {
          "model_module": "@jupyter-widgets/controls",
          "model_name": "SliderStyleModel",
          "model_module_version": "1.5.0",
          "state": {
            "_model_module": "@jupyter-widgets/controls",
            "_model_module_version": "1.5.0",
            "_model_name": "SliderStyleModel",
            "_view_count": null,
            "_view_module": "@jupyter-widgets/base",
            "_view_module_version": "1.2.0",
            "_view_name": "StyleView",
            "description_width": "",
            "handle_color": null
          }
        },
        "9567d6a20964413e8c3b4653c00b65d4": {
          "model_module": "@jupyter-widgets/controls",
          "model_name": "FloatRangeSliderModel",
          "model_module_version": "1.5.0",
          "state": {
            "_dom_classes": [],
            "_model_module": "@jupyter-widgets/controls",
            "_model_module_version": "1.5.0",
            "_model_name": "FloatRangeSliderModel",
            "_view_count": null,
            "_view_module": "@jupyter-widgets/controls",
            "_view_module_version": "1.5.0",
            "_view_name": "FloatRangeSliderView",
            "continuous_update": false,
            "description": "Translon 4:",
            "description_tooltip": null,
            "disabled": false,
            "layout": "IPY_MODEL_9bd1661f096c427fa785b619465aa929",
            "max": 3000,
            "min": 0,
            "orientation": "horizontal",
            "readout": true,
            "readout_format": ".1f",
            "step": 1,
            "style": "IPY_MODEL_e5dd6c52085940dea83b1ddee40285dd",
            "value": [
              0,
              0
            ]
          }
        },
        "9bd1661f096c427fa785b619465aa929": {
          "model_module": "@jupyter-widgets/base",
          "model_name": "LayoutModel",
          "model_module_version": "1.2.0",
          "state": {
            "_model_module": "@jupyter-widgets/base",
            "_model_module_version": "1.2.0",
            "_model_name": "LayoutModel",
            "_view_count": null,
            "_view_module": "@jupyter-widgets/base",
            "_view_module_version": "1.2.0",
            "_view_name": "LayoutView",
            "align_content": null,
            "align_items": null,
            "align_self": null,
            "border": null,
            "bottom": null,
            "display": null,
            "flex": null,
            "flex_flow": null,
            "grid_area": null,
            "grid_auto_columns": null,
            "grid_auto_flow": null,
            "grid_auto_rows": null,
            "grid_column": null,
            "grid_gap": null,
            "grid_row": null,
            "grid_template_areas": null,
            "grid_template_columns": null,
            "grid_template_rows": null,
            "height": "40px",
            "justify_content": null,
            "justify_items": null,
            "left": null,
            "margin": null,
            "max_height": null,
            "max_width": null,
            "min_height": null,
            "min_width": null,
            "object_fit": null,
            "object_position": null,
            "order": null,
            "overflow": null,
            "overflow_x": null,
            "overflow_y": null,
            "padding": null,
            "right": null,
            "top": null,
            "visibility": null,
            "width": "50%"
          }
        },
        "e5dd6c52085940dea83b1ddee40285dd": {
          "model_module": "@jupyter-widgets/controls",
          "model_name": "SliderStyleModel",
          "model_module_version": "1.5.0",
          "state": {
            "_model_module": "@jupyter-widgets/controls",
            "_model_module_version": "1.5.0",
            "_model_name": "SliderStyleModel",
            "_view_count": null,
            "_view_module": "@jupyter-widgets/base",
            "_view_module_version": "1.2.0",
            "_view_name": "StyleView",
            "description_width": "",
            "handle_color": null
          }
        },
        "67758c0a905f43f1aa1aa74c2ae04c83": {
          "model_module": "@jupyter-widgets/controls",
          "model_name": "FloatRangeSliderModel",
          "model_module_version": "1.5.0",
          "state": {
            "_dom_classes": [],
            "_model_module": "@jupyter-widgets/controls",
            "_model_module_version": "1.5.0",
            "_model_name": "FloatRangeSliderModel",
            "_view_count": null,
            "_view_module": "@jupyter-widgets/controls",
            "_view_module_version": "1.5.0",
            "_view_name": "FloatRangeSliderView",
            "continuous_update": false,
            "description": "Translon 5:",
            "description_tooltip": null,
            "disabled": false,
            "layout": "IPY_MODEL_820f51e74b1043008990ff6fed4fb4cc",
            "max": 3000,
            "min": 0,
            "orientation": "horizontal",
            "readout": true,
            "readout_format": ".1f",
            "step": 1,
            "style": "IPY_MODEL_c260380b2a0e40939e407dbdd55d9f58",
            "value": [
              0,
              0
            ]
          }
        },
        "820f51e74b1043008990ff6fed4fb4cc": {
          "model_module": "@jupyter-widgets/base",
          "model_name": "LayoutModel",
          "model_module_version": "1.2.0",
          "state": {
            "_model_module": "@jupyter-widgets/base",
            "_model_module_version": "1.2.0",
            "_model_name": "LayoutModel",
            "_view_count": null,
            "_view_module": "@jupyter-widgets/base",
            "_view_module_version": "1.2.0",
            "_view_name": "LayoutView",
            "align_content": null,
            "align_items": null,
            "align_self": null,
            "border": null,
            "bottom": null,
            "display": null,
            "flex": null,
            "flex_flow": null,
            "grid_area": null,
            "grid_auto_columns": null,
            "grid_auto_flow": null,
            "grid_auto_rows": null,
            "grid_column": null,
            "grid_gap": null,
            "grid_row": null,
            "grid_template_areas": null,
            "grid_template_columns": null,
            "grid_template_rows": null,
            "height": "40px",
            "justify_content": null,
            "justify_items": null,
            "left": null,
            "margin": null,
            "max_height": null,
            "max_width": null,
            "min_height": null,
            "min_width": null,
            "object_fit": null,
            "object_position": null,
            "order": null,
            "overflow": null,
            "overflow_x": null,
            "overflow_y": null,
            "padding": null,
            "right": null,
            "top": null,
            "visibility": null,
            "width": "50%"
          }
        },
        "c260380b2a0e40939e407dbdd55d9f58": {
          "model_module": "@jupyter-widgets/controls",
          "model_name": "SliderStyleModel",
          "model_module_version": "1.5.0",
          "state": {
            "_model_module": "@jupyter-widgets/controls",
            "_model_module_version": "1.5.0",
            "_model_name": "SliderStyleModel",
            "_view_count": null,
            "_view_module": "@jupyter-widgets/base",
            "_view_module_version": "1.2.0",
            "_view_name": "StyleView",
            "description_width": "",
            "handle_color": null
          }
        }
      }
    }
  },
  "cells": [
    {
      "cell_type": "markdown",
      "metadata": {
        "id": "view-in-github",
        "colab_type": "text"
      },
      "source": [
        "<a href=\"https://colab.research.google.com/github/JackCurragh/RDG-Viewer/blob/main/RDG_Viewer.ipynb\" target=\"_parent\"><img src=\"https://colab.research.google.com/assets/colab-badge.svg\" alt=\"Open In Colab\"/></a>"
      ]
    },
    {
      "cell_type": "markdown",
      "source": [
        "# RDG-Viewer\n",
        "\n",
        "Visualise Ribosome Decision Graphs in your browser using this colab notebook.\n",
        "\n",
        "This notebook utilises the plotting functionality of the `RDG` python [package](https://github.com/JackCurragh/RDG). This package is under active development with the goal of being a basic toolkit for carrying out Ribosome Decision Graph based analysis."
      ],
      "metadata": {
        "id": "qTXmCsDp5Gm8"
      }
    },
    {
      "cell_type": "code",
      "source": [
        "#@title 1. Setup\n",
        "\n",
        "#@markdown Install the required dependencies for Ribosome Decision Graph\n",
        "#@markdown visualisation\n",
        "\n",
        "#@markdown Run this step by clicking the <b>Play</b> button on the left\n",
        "\n",
        "!pip install -q sqlitedict matplotlib networkx gget;\n",
        "!pip install -q git+https://github.com/JackCurragh/RDG.git;\n",
        "\n",
        "from RDG import plot, RDG\n",
        "\n",
        "no_node_color_dict = {\n",
        "    \"edge_colors\": {\n",
        "        0: \"#ffbb8d\",\n",
        "        1: \"#ffeedd\",\n",
        "        2: \"#ffd8be\"\n",
        "        },\n",
        "    \"node_colors\": {\n",
        "        \"startpoint\": \"#000000\",\n",
        "        \"endpoint\": \"#000000\",\n",
        "        \"translation_start\": \"#00b050\",\n",
        "        \"translation_stop\": \"#000000\",\n",
        "        \"frameshift\": \"#000000\",\n",
        "    },\n",
        "}"
      ],
      "metadata": {
        "colab": {
          "base_uri": "https://localhost:8080/"
        },
        "cellView": "form",
        "id": "9P9Gl9NcDQTr",
        "outputId": "d3fc4063-c070-428a-9ef9-162777ae8135"
      },
      "execution_count": 1,
      "outputs": [
        {
          "output_type": "stream",
          "name": "stdout",
          "text": [
            "  Preparing metadata (setup.py) ... \u001b[?25l\u001b[?25hdone\n",
            "\u001b[2K     \u001b[90m━━━━━━━━━━━━━━━━━━━━━━━━━━━━━━━━━━━━━━━━\u001b[0m \u001b[32m43.1/43.1 MB\u001b[0m \u001b[31m16.9 MB/s\u001b[0m eta \u001b[36m0:00:00\u001b[0m\n",
            "\u001b[2K     \u001b[90m━━━━━━━━━━━━━━━━━━━━━━━━━━━━━━━━━━━━━━━━\u001b[0m \u001b[32m25.2/25.2 MB\u001b[0m \u001b[31m33.9 MB/s\u001b[0m eta \u001b[36m0:00:00\u001b[0m\n",
            "\u001b[2K     \u001b[90m━━━━━━━━━━━━━━━━━━━━━━━━━━━━━━━━━━━━━━━━\u001b[0m \u001b[32m1.6/1.6 MB\u001b[0m \u001b[31m32.6 MB/s\u001b[0m eta \u001b[36m0:00:00\u001b[0m\n",
            "\u001b[?25h  Building wheel for sqlitedict (setup.py) ... \u001b[?25l\u001b[?25hdone\n",
            "  Preparing metadata (setup.py) ... \u001b[?25l\u001b[?25hdone\n",
            "\u001b[2K     \u001b[90m━━━━━━━━━━━━━━━━━━━━━━━━━━━━━━━━━━━━━━━━\u001b[0m \u001b[32m11.6/11.6 MB\u001b[0m \u001b[31m25.3 MB/s\u001b[0m eta \u001b[36m0:00:00\u001b[0m\n",
            "\u001b[2K     \u001b[90m━━━━━━━━━━━━━━━━━━━━━━━━━━━━━━━━━━━━━━━━\u001b[0m \u001b[32m18.2/18.2 MB\u001b[0m \u001b[31m50.1 MB/s\u001b[0m eta \u001b[36m0:00:00\u001b[0m\n",
            "\u001b[2K     \u001b[90m━━━━━━━━━━━━━━━━━━━━━━━━━━━━━━━━━━━━━━━━\u001b[0m \u001b[32m4.5/4.5 MB\u001b[0m \u001b[31m72.4 MB/s\u001b[0m eta \u001b[36m0:00:00\u001b[0m\n",
            "\u001b[2K     \u001b[90m━━━━━━━━━━━━━━━━━━━━━━━━━━━━━━━━━━━━━━━━\u001b[0m \u001b[32m1.2/1.2 MB\u001b[0m \u001b[31m59.2 MB/s\u001b[0m eta \u001b[36m0:00:00\u001b[0m\n",
            "\u001b[2K     \u001b[90m━━━━━━━━━━━━━━━━━━━━━━━━━━━━━━━━━━━━━━━━\u001b[0m \u001b[32m334.0/334.0 kB\u001b[0m \u001b[31m28.9 MB/s\u001b[0m eta \u001b[36m0:00:00\u001b[0m\n",
            "\u001b[2K     \u001b[90m━━━━━━━━━━━━━━━━━━━━━━━━━━━━━━━━━━━━━━━━\u001b[0m \u001b[32m807.9/807.9 kB\u001b[0m \u001b[31m50.5 MB/s\u001b[0m eta \u001b[36m0:00:00\u001b[0m\n",
            "\u001b[2K     \u001b[90m━━━━━━━━━━━━━━━━━━━━━━━━━━━━━━━━━━━━━━━━\u001b[0m \u001b[32m64.8/64.8 kB\u001b[0m \u001b[31m6.7 MB/s\u001b[0m eta \u001b[36m0:00:00\u001b[0m\n",
            "\u001b[?25h  Building wheel for RDG (setup.py) ... \u001b[?25l\u001b[?25hdone\n",
            "\u001b[31mERROR: pip's dependency resolver does not currently take into account all the packages that are installed. This behaviour is the source of the following dependency conflicts.\n",
            "lida 0.0.10 requires fastapi, which is not installed.\n",
            "lida 0.0.10 requires kaleido, which is not installed.\n",
            "lida 0.0.10 requires python-multipart, which is not installed.\n",
            "lida 0.0.10 requires uvicorn, which is not installed.\n",
            "imageio 2.31.6 requires pillow<10.1.0,>=8.3.2, but you have pillow 10.2.0 which is incompatible.\u001b[0m\u001b[31m\n",
            "\u001b[0m"
          ]
        }
      ]
    },
    {
      "cell_type": "code",
      "source": [
        "#@title 2. Build & Visualise Ribosome Decsion Graph\n",
        "\n",
        "#@markdown Executing this cell using the <b>Play</b> button on the left will\n",
        "#@markdown render a RDG visualisation below.\n",
        "\n",
        "#@markdown Depending on the rules/assumptions made during graph construction we\n",
        "#@markdown will obtain greatly differnt graphs. Fill in the fields below to\n",
        "#@markdown set the 'rules' for this graph as well as other visualisation paramaters\n",
        "\n",
        "Locus_Name = \"PTEN\"  #@param {type:\"string\"}\n",
        "Transcript_length = 9027 #@param {type:\"integer\"}\n",
        "\n",
        "Allow_reinitiation = False #@param {type:\"boolean\"}\n",
        "\n",
        "#@markdown Input Translon start and stop coordinates in the form\n",
        "#@markdown \"Start Position, Stop Position\". Example  `100, 500`\n",
        "\n",
        "#@markdown Leave a field blank if you do not require all 5 Translons\n",
        "\n",
        "#@markdown <b>Note:</b> the quotation marks look after themselves\n",
        "Translon_1 = \"1358, 2570\"  #@param {type:\"string\"}\n",
        "Translon_2 = \"839, 2570\"  #@param {type:\"string\"}\n",
        "Translon_3 = \"920, 2570\"  #@param {type:\"string\"}\n",
        "Translon_4 = \"965, 2570\"  #@param {type:\"string\"}\n",
        "Translon_5 = \"1142, 2570\"  #@param {type:\"string\"}\n",
        "\n",
        "Translons = {\n",
        "    \"Translon 1\": Translon_1,\n",
        "    \"Translon 2\": Translon_2,\n",
        "    \"Translon 3\": Translon_3,\n",
        "    \"Translon 4\": Translon_4,\n",
        "    \"Translon 5\": Translon_5,\n",
        "    }\n",
        "\n",
        "g = RDG(name=Locus_Name, locus_stop=Transcript_length)\n",
        "\n",
        "\n",
        "for translon in Translons:\n",
        "  if Translons[translon] != \"\":\n",
        "    try:\n",
        "      start_stop = [int(i) for i in Translons[translon].split(\", \")]\n",
        "    except:\n",
        "      raise Exception(\"Translon 1 Start or Stop Codon position is invalid\")\n",
        "\n",
        "    g.add_open_reading_frame(\n",
        "        start_codon_position=int(start_stop[0]),\n",
        "        stop_codon_position=int(start_stop[1]),\n",
        "        reinitiation=Allow_reinitiation\n",
        "        )\n",
        "\n",
        "plot(g, color_dict=no_node_color_dict)"
      ],
      "metadata": {
        "colab": {
          "base_uri": "https://localhost:8080/",
          "height": 495
        },
        "cellView": "form",
        "id": "iBCEV_5vGRTI",
        "outputId": "b72abd7f-0fa9-4ab4-dd64-fd329e430b7a"
      },
      "execution_count": 2,
      "outputs": [
        {
          "output_type": "display_data",
          "data": {
            "text/plain": [
              "<Figure size 640x480 with 2 Axes>"
            ],
            "image/png": "[encoded data removed]"
          },
          "metadata": {}
        },
        {
          "output_type": "execute_result",
          "data": {
            "text/plain": [
              "(<Figure size 640x480 with 2 Axes>, <Axes: >, <Axes: >)"
            ]
          },
          "metadata": {},
          "execution_count": 2
        }
      ]
    },
    {
      "cell_type": "code",
      "source": [
        "#@title 2 v2. Build Visualise Ribosome Decsion Graph\n",
        "\n",
        "#@markdown Executing this cell using the <b>Play</b> button on the left will\n",
        "#@markdown render a RDG visualisation below.\n",
        "\n",
        "#@markdown Depending on the rules/assumptions made during graph construction we\n",
        "#@markdown will obtain greatly differnt graphs. Fill in the fields below to\n",
        "#@markdown set the 'rules' for this graph as well as other visualisation paramaters\n",
        "\n",
        "Locus_Name = \"ATF4\"  #@param {type:\"string\"}\n",
        "Transcript_length = 3000 #@param {type:\"integer\"}\n",
        "\n",
        "Allow_reinitiation = False #@param {type:\"boolean\"}\n",
        "#@markdown Distance after a stop required for reinitiation to be possible\n",
        "Reinitiation_base_limit = 300 #@param {type:\"integer\"}\n",
        "\n",
        "import ipywidgets as widgets\n",
        "\n",
        "t1 = widgets.FloatRangeSlider(\n",
        "    value=[486, 649],\n",
        "    min=0,\n",
        "    max=Transcript_length,\n",
        "    step=1,\n",
        "    description='Translon 1:',\n",
        "    disabled=False,\n",
        "    continuous_update=False,\n",
        "    orientation='horizontal',\n",
        "    readout=True,\n",
        "    readout_format='.1f',\n",
        "    layout=widgets.Layout(width='50%', height='40px')\n",
        ")\n",
        "t2 = widgets.FloatRangeSlider(\n",
        "    value=[700, 891],\n",
        "    min=0,\n",
        "    max=Transcript_length,\n",
        "    step=1,\n",
        "    description='Translon 2:',\n",
        "    disabled=False,\n",
        "    continuous_update=False,\n",
        "    orientation='horizontal',\n",
        "    readout=True,\n",
        "    readout_format='.1f',\n",
        "    layout=widgets.Layout(width='50%', height='40px')\n",
        ")\n",
        "t3 = widgets.FloatRangeSlider(\n",
        "    value=[888, 1943],\n",
        "    min=0,\n",
        "    max=Transcript_length,\n",
        "    step=1,\n",
        "    description='Translon 3:',\n",
        "    disabled=False,\n",
        "    continuous_update=False,\n",
        "    orientation='horizontal',\n",
        "    readout=True,\n",
        "    readout_format='.1f',\n",
        "    layout=widgets.Layout(width='50%', height='40px')\n",
        ")\n",
        "t4 = widgets.FloatRangeSlider(\n",
        "    value=[0, 0],\n",
        "    min=0,\n",
        "    max=Transcript_length,\n",
        "    step=1,\n",
        "    description='Translon 4:',\n",
        "    disabled=False,\n",
        "    continuous_update=False,\n",
        "    orientation='horizontal',\n",
        "    readout=True,\n",
        "    readout_format='.1f',\n",
        "    layout=widgets.Layout(width='50%', height='40px')\n",
        ")\n",
        "t5 = widgets.FloatRangeSlider(\n",
        "    value=[0, 0],\n",
        "    min=0,\n",
        "    max=Transcript_length,\n",
        "    step=1,\n",
        "    description='Translon 5:',\n",
        "    disabled=False,\n",
        "    continuous_update=False,\n",
        "    orientation='horizontal',\n",
        "    readout=True,\n",
        "    readout_format='.1f',\n",
        "    layout=widgets.Layout(width='50%', height='40px')\n",
        ")\n",
        "display(t1, t2, t3, t4, t5)\n"
      ],
      "metadata": {
        "colab": {
          "base_uri": "https://localhost:8080/",
          "height": 229,
          "referenced_widgets": [
            "d55ab9e1da894df4a29009a3c55fb5f5",
            "3b88fe5c11ec435c97877d4d361d43a0",
            "e91a875b192146fb8ca813d20804559b",
            "11527e3d30b44ff59f9cd4061702242b",
            "e45e512e2aa7442c8e0bc4a8110846cd",
            "083a08aac4284a7bb97f058e73b388fe",
            "01699afa6eb54ac19e6142ee4ffb4c05",
            "63e4c4481dcb487ca3a2bdf6539ada60",
            "2f6866bb646c497b8c2520d008293fd5",
            "9567d6a20964413e8c3b4653c00b65d4",
            "9bd1661f096c427fa785b619465aa929",
            "e5dd6c52085940dea83b1ddee40285dd",
            "67758c0a905f43f1aa1aa74c2ae04c83",
            "820f51e74b1043008990ff6fed4fb4cc",
            "c260380b2a0e40939e407dbdd55d9f58"
          ]
        },
        "cellView": "form",
        "id": "KM-E1hUzAJmM",
        "outputId": "6973d957-9d02-46a1-e9c2-3e7dacf85799"
      },
      "execution_count": 6,
      "outputs": [
        {
          "output_type": "display_data",
          "data": {
            "text/plain": [
              "FloatRangeSlider(value=(486.0, 649.0), continuous_update=False, description='Translon 1:', layout=Layout(heigh…"
            ],
            "application/vnd.jupyter.widget-view+json": {
              "version_major": 2,
              "version_minor": 0,
              "model_id": "d55ab9e1da894df4a29009a3c55fb5f5"
            }
          },
          "metadata": {}
        },
        {
          "output_type": "display_data",
          "data": {
            "text/plain": [
              "FloatRangeSlider(value=(700.0, 891.0), continuous_update=False, description='Translon 2:', layout=Layout(heigh…"
            ],
            "application/vnd.jupyter.widget-view+json": {
              "version_major": 2,
              "version_minor": 0,
              "model_id": "11527e3d30b44ff59f9cd4061702242b"
            }
          },
          "metadata": {}
        },
        {
          "output_type": "display_data",
          "data": {
            "text/plain": [
              "FloatRangeSlider(value=(888.0, 1943.0), continuous_update=False, description='Translon 3:', layout=Layout(heig…"
            ],
            "application/vnd.jupyter.widget-view+json": {
              "version_major": 2,
              "version_minor": 0,
              "model_id": "01699afa6eb54ac19e6142ee4ffb4c05"
            }
          },
          "metadata": {}
        },
        {
          "output_type": "display_data",
          "data": {
            "text/plain": [
              "FloatRangeSlider(value=(0.0, 0.0), continuous_update=False, description='Translon 4:', layout=Layout(height='4…"
            ],
            "application/vnd.jupyter.widget-view+json": {
              "version_major": 2,
              "version_minor": 0,
              "model_id": "9567d6a20964413e8c3b4653c00b65d4"
            }
          },
          "metadata": {}
        },
        {
          "output_type": "display_data",
          "data": {
            "text/plain": [
              "FloatRangeSlider(value=(0.0, 0.0), continuous_update=False, description='Translon 5:', layout=Layout(height='4…"
            ],
            "application/vnd.jupyter.widget-view+json": {
              "version_major": 2,
              "version_minor": 0,
              "model_id": "67758c0a905f43f1aa1aa74c2ae04c83"
            }
          },
          "metadata": {}
        }
      ]
    },
    {
      "cell_type": "code",
      "source": [
        "#@title Once you have set your Translon ranges it <b>Play</b> to render the graph!\n",
        "\n",
        "Translons = {\n",
        "    \"Translon 1\": t1.value,\n",
        "    \"Translon 2\": t2.value,\n",
        "    \"Translon 3\": t3.value,\n",
        "    \"Translon 4\": t4.value,\n",
        "    \"Translon 5\": t5.value,\n",
        "    }\n",
        "\n",
        "g = RDG(name=Locus_Name, locus_stop=Transcript_length)\n",
        "\n",
        "for translon in Translons:\n",
        "  if Translons[translon][0] != Translons[translon][1]:\n",
        "    g.add_open_reading_frame(\n",
        "        start_codon_position=int(Translons[translon][0]),\n",
        "        stop_codon_position=int(Translons[translon][1]),\n",
        "        reinitiation=Allow_reinitiation,\n",
        "        )\n",
        "plot(g, color_dict=no_node_color_dict, reinit_base_limit=Reinitiation_base_limit)"
      ],
      "metadata": {
        "colab": {
          "base_uri": "https://localhost:8080/",
          "height": 495
        },
        "cellView": "form",
        "id": "Y-BHA585NA51",
        "outputId": "8a1cf001-7171-4739-ea45-6e7961867e7f"
      },
      "execution_count": 7,
      "outputs": [
        {
          "output_type": "display_data",
          "data": {
            "text/plain": [
              "<Figure size 640x480 with 2 Axes>"
            ],
            "image/png": "[encoded data removed]"
          },
          "metadata": {}
        },
        {
          "output_type": "execute_result",
          "data": {
            "text/plain": [
              "(<Figure size 640x480 with 2 Axes>, <Axes: >, <Axes: >)"
            ]
          },
          "metadata": {},
          "execution_count": 7
        }
      ]
    },
    {
      "cell_type": "code",
      "source": [
        "#@title 3. Build Visualise Ribosome Decsion Graph - From Sequence\n",
        "\n",
        "#@markdown Executing this cell using the <b>Play</b> button on the left will\n",
        "#@markdown render a RDG visualisation below.\n",
        "\n",
        "#@markdown Provide transcript sequence and specified graph construction\n",
        "#@markdown paramaters below:\n",
        "\n",
        "from RDG.sequence_to_RDG import extract_translons\n",
        "\n",
        "Locus_Name = \"Example\"  #@param {type:\"string\"}\n",
        "\n",
        "#@markdown Transcript Sequence (No FASTA Header):\n",
        "sequence = \"ACTGCGCCCTCGGTCCGCCCCAGATCATCCGCCAGCTGGAGAACAACATCGAGAAGACAATGATCAAGATCATCACCAGCCAGAACATCCACCTGCTGTATTTGGACCTGCTGGATTATCTGAAGACAGTGCTGGCAGGATACCCCATTGAGCTGGACAAGCTGCAGAACCTCGTGGTCAACTACTGCTCAGAGCTGTCGGATATGAAGATCATGTCCCAAGATGCCATGATGATCACGGATGAGGTCAAGTGAAGATAGTGATCCGGGGAGACAGGAACACGGGCAAGACAGCGCTGTGGCACCGCCTGCAGGGCCGGCCGTTCGTGGAGGAGTACATCCCCACACAGGAGATCCAGGTCACCAGCATCCACTGGAGCTACAAGACCACGGATGACATCGTGAAGGTTGAAGTCTGGGATGTAGTAGACAAAGGAAAATGCAAAAAGCGAGGCGACGGCTTAAAGATGGAGAACGACCCCCAGGAGGCGGAGTCTGAAATGGCCCTGGATGCTGAGTTCCTGGACGTGTACAAGAACTGCAACGGGGTGGTCATGATGTT\" #@param {type:\"string\"}\n",
        "\n",
        "#@markdown Start Codons to Consider:\n",
        "start_codons = \"ATG\" #@param {type:\"string\"}\n",
        "\n",
        "#@markdown Number of Start Codons at which the Ribosome will initiate:\n",
        "Number_of_Starts = 3 #@param {type:\"integer\"}\n",
        "\n",
        "#@markdown Max number of Translons on reinitiation path\n",
        "reinitiation_limit = 7 #@param {type:\"integer\"}\n",
        "Allow_reinitiation = True #@param {type:\"boolean\"}\n",
        "\n",
        "translons = extract_translons(sequence, starts=start_codons, min_length=0)\n",
        "dg = RDG(name=Locus_Name, locus_stop=len(sequence))\n",
        "\n",
        "for translon_start, translon_stop in sorted(translons)[:Number_of_Starts]:\n",
        "    dg.add_open_reading_frame(\n",
        "        translon_start,\n",
        "        translon_stop,\n",
        "        reinitiation=Allow_reinitiation,\n",
        "        upstream_limit=reinitiation_limit,\n",
        "    )\n",
        "\n",
        "plot(dg, color_dict=no_node_color_dict)"
      ],
      "metadata": {
        "colab": {
          "base_uri": "https://localhost:8080/",
          "height": 495
        },
        "id": "ZoV1kKcnRblv",
        "outputId": "8418b639-4653-4611-a38b-aeaa81273e3e",
        "cellView": "form"
      },
      "execution_count": 9,
      "outputs": [
        {
          "output_type": "display_data",
          "data": {
            "text/plain": [
              "<Figure size 640x480 with 2 Axes>"
            ],
            "image/png": "[encoded data removed]"
          },
          "metadata": {}
        },
        {
          "output_type": "execute_result",
          "data": {
            "text/plain": [
              "(<Figure size 640x480 with 2 Axes>, <Axes: >, <Axes: >)"
            ]
          },
          "metadata": {},
          "execution_count": 9
        }
      ]
    },
    {
      "cell_type": "code",
      "source": [
        "#@title 4. Build Visualise Ribosome Decsion Graph - From Gene Name\n",
        "\n",
        "#@markdown Executing this cell using the <b>Play</b> button on the left will\n",
        "#@markdown render a RDG visualisation below.\n",
        "\n",
        "#@markdown Provide gene name and specified graph construction\n",
        "#@markdown paramaters below:\n",
        "import gget\n",
        "\n",
        "organism = \"homo_sapiens\" #@param {type:\"string\"}\n",
        "#@markdown <b>Please provide the organism name with an underscore eg \"mus_musculus\"</b>\n",
        "\n",
        "gene_name = \"ATF4\" #@param {type:\"string\"}\n",
        "\n",
        "#@markdown Start Codons to Consider:\n",
        "start_codons = \"ATG\" #@param {type:\"string\"}\n",
        "\n",
        "#@markdown Number of Start Codons at which the Ribosome will initiate:\n",
        "Number_of_Starts = 20 #@param {type:\"integer\"}\n",
        "\n",
        "#@markdown Max number of Translons on reinitiation path\n",
        "reinitiation_limit = 7 #@param {type:\"integer\"}\n",
        "Allow_reinitiation = True #@param {type:\"boolean\"}\n",
        "\n",
        "\n",
        "ensg = gget.search([gene_name], organism)['ensembl_id'][0]\n",
        "print(gget.seq(ensg, translate=False, isoforms=True))\n",
        "gget_sequence = gget.seq(ensg, translate=False, isoforms=True)[1]\n",
        "\n",
        "translons = extract_translons(gget_sequence, starts=start_codons, min_length=0)\n",
        "dg = RDG(name=gene_name, locus_stop=len(gget_sequence))\n",
        "\n",
        "for translon_start, translon_stop in sorted(translons)[:Number_of_Starts]:\n",
        "    dg.add_open_reading_frame(\n",
        "        translon_start,\n",
        "        translon_stop,\n",
        "        reinitiation=Allow_reinitiation,\n",
        "        upstream_limit=reinitiation_limit,\n",
        "    )\n",
        "plot(dg, color_dict=no_node_color_dict)"
      ],
      "metadata": {
        "colab": {
          "base_uri": "https://localhost:8080/",
          "height": 845
        },
        "id": "lqtWwhywqPfr",
        "outputId": "15f4168e-85c5-46d5-c82a-bbd283812241"
      },
      "execution_count": 15,
      "outputs": [
        {
          "output_type": "stream",
          "name": "stdout",
          "text": [
            "['>ENST00000404241 chromosome:GRCh38:22:39519695:39522683:1', 'AGGTGGACAGGCCCGGCGCGCCCTCTCGAGGCCCCTTCAACCTCCCGGGGGCAGCAGCGCCGTGTCGGCTATGAATGGGGCCTCTGGAAAACTCAGGCTTGGAACAGGTAACCCCCCGGTTTCCGCAGGCCACAAATCACCACCCGCAACCGAAGGACGCGCAGGCTGGGAGCGGCGGCGGGGCCACCAGTGCGGACCTCCACTGAGGGCGGCGGGATCCGACCGCAAGGGCTGGTCCCTGAGGCCACTAAGGGGTGCGCTGGGCTAAGGCCGCCTGGGGGCAGGAGCCAGCGCGATCGTGGCGGGCCAGCAGGCGGGGCTGGCTGAGGACTAGCAGCGACCCGAGACCCCAACCCTTCCCACGCGGACCCCGGGATCCCTCTCCCAGCAGCCGCCCATCTAGGGCCCTGAGCCAATAAGAGCTCGAGATATATATGATTCACCGGGCCTGGGCCAATCACCTTGACGCGCGCTCTTCGCCAGCACCTCGCGCGATAACCTGGCGTCCTCGGCCTTCACAATAAAAACTCTTCGCCGGAAAACGACCTTTCCCCGCCCACTGCGCTGACACCGGAAGCGAGGCGTGTCTGGGAGATCACTCCGCGCTCCGGCGGCGAAGGAAAGAACGGACTCTGATCATAGAAGCCTAGTAAAGTAGTACACCTCTCTCCTTTCGTGAGGCCATAAGAACAAACTCCTTTTCTCGTCACAGCTACGCCCTGGGCATAAACGGTTGGGGCGTCAAAGGGAGGGAGGGAAGGGAGCGGGCGGGAGGAGACGGTCACGTGGTCGCGGCGGAAGGATGCGTCTGTGCTGCGTCCCCATAGAGACGAAGTCTATAAAGGGCCGGCGGGCGGCCACGGCAGCCATTTCTACTTTGCCCGCCCACAGATGTAGTTTTCTCTGCGCGTGTGCGTTTTCCCTCCTCCCCGCCCTCAGGGTCCACGGCCACCATGGCGTATTAGGGGCAGCAGTGCCTGCGGCAGCATTGGCCTTTGCAGCGGCGGCAGCAGCACCAGGCTCTGCAGCGGCAACCCCCAGCGGCTTAAGCCATGGCGTGAGTACCGGGGCGGGTCGTCCAGCTGTGCTCCTGGGGCCGGCGCGGGTTTTGGATTGGTGGGGTGCGGCCTGGGGCCAGGGCGGTGCCGCCAAGGGGGAAGCGATTTAACGAGCGCCCGGGACGCGTGGTCTTTGCTTGGGTGTCCCCGAGACGCTCGCGTGCCTGGGATCGGGAAAGCGTAGTCGGGTGCCCGGACTGCTTCCCCAGGAGCCCTACAGCCCTCGGACCCCGAGCCCCGCAAGGGTCCCAGGGGTCTTGGCTGTTGCCCCACGAAACGTGGCAGGAACCAAGATGGCGGCGGCAGGGCGGCGGCGCGGGCGTGAGTCAAGGGCGGGCGGTGGGCGGGGCGCGGCCGCCCTGGCCGTATTTGGACGTGGGGACGGAGCGCTTTCCTCTTGGCGGCCGGTGGAAGAATCCCCTGGTCTCCGTGAGCGTCCATTTTGTGGAACCTGAGTTGCAAGCAGGGAGGGGCAAATACAACTGCCCTGTTCCCGATTCTCTAGATGGCCGATCTAGAGAAGTCCCGCCTCATAAGTGGAAGGATGAAATTCTCAGAACAGCTAACCTCTAATGGGAGTTGGCTTCTGATTCTCATTCAGGCTTCTCACGGCATTCAGCAGCAGCGTTGCTGTAACCGACAAAGACACCTTCGAATTAAGCACATTCCTCGATTCCAGCAAAGCACCGCAACATGACCGAAATGAGCTTCCTGAGCAGCGAGGTGTTGGTGGGGGACTTGATGTCCCCCTTCGACCAGTCGGGTTTGGGGGCTGAAGAAAGCCTAGGTCTCTTAGATGATTACCTGGAGGTGGCCAAGCACTTCAAACCTCATGGGTTCTCCAGCGACAAGGCTAAGGCGGGCTCCTCCGAATGGCTGGCTGTGGATGGGTTGGTCAGTCCCTCCAACAACAGCAAGGGTGAGTGGGCCACCACCACATCGTCCTGGTGGGATCTAGGGTTAGGGGCCTCCTACCTTTGTATCTGACTCACTTGGCCCCATCACTCAAATGTTTTGCAGAGGATGCCTTCTCCGGGACAGATTGGATGTTGGAGAAAATGGATTTGAAGGAGTTCGACTTGGATGCCCTGTTGGGTATAGATGACCTGGAAACCATGCCAGATGACCTTCTGACCACGTTGGATGACACTTGTGATCTCTTTGCCCCCCTAGTCCAGGAGACTAATAAGCAGCCCCCCCAGACGGTGAACCCAATTGGCCATCTCCCAGAAAGTTTAACAAAACCCGACCAGGTTGCCCCCTTCACCTTCTTACAACCTCTTCCCCTTTCCCCAGGGGTCCTGTCCTCCACTCCAGATCATTCCTTTAGTTTAGAGCTGGGCAGTGAAGTGGATATCACTGAAGGAGATAGGAAGCCAGACTACACTGCTTACGTTGCCATGATCCCTCAGTGCATAAAGGAGGAAGACACCCCTTCAGATAATGATAGTGGCATCTGTATGAGCCCAGAGTCCTATCTGGGGTCTCCTCAGCACAGCCCCTCTACCAGGGGCTCTCCAAATAGGAGCCTCCCATCTCCAGGTGTTCTCTGTGGGTCTGCCCGTCCCAAACCTTACGATCCTCCTGGAGAGAAGATGGTAGCAGCAAAAGTAAAGGGTGAGAAACTGGATAAGAAGCTGAAAAAAATGGAGCAAAACAAGACAGCAGCCACTAGGTACCGCCAGAAGAAGAGGGCGGAGCAGGAGGCTCTTACTGGTGAGTGCAAAGAGCTGGAAAAGAAGAACGAGGCTCTAAAAGAGAGGGCGGATTCCCTGGCCAAGGAGATCCAGTACCTGAAAGATTTGATAGAAGAGGTCCGCAAGGCAAGGGGGAAGAAAAGGGTCCCCTAGTTGAGGATAGTCAGGAGCGTCAATGTGCTTGTACATAGAGTGCTGTAGCTGTGTGTTCCAATAAATTATTTTGTAGGGAAA', '>ENST00000674920 chromosome:GRCh38:22:39520562:39522683:1', 'CATTTCTACTTTGCCCGCCCACAGATGTAGTTTTCTCTGCGCGTGTGCGTTTTCCCTCCTCCCCGCCCTCAGGGTCCACGGCCACCATGGCGTATTAGGGGCAGCAGTGCCTGCGGCAGCATTGGCCTTTGCAGCGGCGGCAGCAGCACCAGGCTCTGCAGCGGCAACCCCCAGCGGCTTAAGCCATGGCGTGAGTACCGGGGCGGGTCGTCCAGCTGTGCTCCTGGGGCCGGCGCGGGTTTTGGATTGGTGGGGTGCGGCCTGGGGCCAGGGCGGTGCCGCCAAGGGGGAAGCGATTTAACGAGCGCCCGGGACGCGTGGTCTTTGCTTGGGTGTCCCCGAGACGCTCGCGTGCCTGGGATCGGGAAAGCGTAGTCGGGTGCCCGGACTGCTTCCCCAGGAGCCCTACAGCCCTCGGACCCCGAGCCCCGCAAGGGTCCCAGGGGTCTTGGCTGTTGCCCCACGAAACGTGGCAGGAACCAAGATGGCGGCGGCAGGGCGGCGGCGCGGGCGTGAGTCAAGGGCGGGCGGTGGGCGGGGCGCGGCCGCCCTGGCCGTATTTGGACGTGGGGACGGAGCGCTTTCCTCTTGGCGGCCGGTGGAAGAATCCCCTGGTCTCCGTGAGCGTCCATTTTGTGGAACCTGAGTTGCAAGCAGGGAGGGGCAAATACAACTGCCCTGTTCCCGATTCTCTAGATGGCCGATCTAGAGAAGTCCCGCCTCATAAGTGGAAGGATGAAATTCTCAGAACAGCTAACCTCTAATGGGAGTTGGCTTCTGATTCTCATTCAGGCTTCTCACGGCATTCAGCAGCAGCGTTGCTGTAACCGACAAAGACACCTTCGAATTAAGCACATTCCTCGATTCCAGCAAAGCACCGCAACATGACCGAAATGAGCTTCCTGAGCAGCGAGGTGTTGGTGGGGGACTTGATGTCCCCCTTCGACCAGTCGGGTTTGGGGGCTGAAGAAAGCCTAGGTCTCTTAGATGATTACCTGGAGGTGGCCAAGCACTTCAAACCTCATGGGTTCTCCAGCGACAAGGCTAAGGCGGGCTCCTCCGAATGGCTGGCTGTGGATGGGTTGGTCAGTCCCTCCAACAACAGCAAGGGTGAGTGGGCCACCACCACATCGTCCTGGTGGGATCTAGGGTTAGGGGCCTCCTACCTTTGTATCTGACTCACTTGGCCCCATCACTCAAATGTTTTGCAGAGGATGCCTTCTCCGGGACAGATTGGATGTTGGAGAAAATGGATTTGAAGGAGTTCGACTTGGATGCCCTGTTGGGTATAGATGACCTGGAAACCATGCCAGATGACCTTCTGACCACGTTGGATGACACTTGTGATCTCTTTGCCCCCCTAGTCCAGGAGACTAATAAGCAGCCCCCCCAGACGGTGAACCCAATTGGCCATCTCCCAGAAAGTTTAACAAAACCCGACCAGGTTGCCCCCTTCACCTTCTTACAACCTCTTCCCCTTTCCCCAGGGGTCCTGTCCTCCACTCCAGATCATTCCTTTAGTTTAGAGCTGGGCAGTGAAGTGGATATCACTGAAGGAGATAGGAAGCCAGACTACACTGCTTACGTTGCCATGATCCCTCAGTGCATAAAGGAGGAAGACACCCCTTCAGATAATGATAGTGGCATCTGTATGAGCCCAGAGTCCTATCTGGGGTCTCCTCAGCACAGCCCCTCTACCAGGGGCTCTCCAAATAGGAGCCTCCCATCTCCAGGTGTTCTCTGTGGGTCTGCCCGTCCCAAACCTTACGATCCTCCTGGAGAGAAGATGGTAGCAGCAAAAGTAAAGGGTGAGAAACTGGATAAGAAGCTGAAAAAAATGGAGCAAAACAAGACAGCAGCCACTAGGTACCGCCAGAAGAAGAGGGCGGAGCAGGAGGCTCTTACTGGTGAGTGCAAAGAGCTGGAAAAGAAGAACGAGGCTCTAAAAGAGAGGGCGGATTCCCTGGCCAAGGAGATCCAGTACCTGAAAGATTTGATAGAAGAGGTCCGCAAGGCAAGGGGGAAGAAAAGGGTCCCCTAGTTGAGGATAGTCAGGAGCGTCAATGTGCTTGTACATAGAGTGCTGTAGCTGTGTGTTCCAATAAATTATTTTGTAGGGAAA', '>ENST00000679776 chromosome:GRCh38:22:39520563:39522602:1', 'ATTTCTACTTTGCCCGCCCACAGATGTAGTTTTCTCTGCGCGTGTGCGTTTTCCCTCCTCCCCGCCCTCAGGGTCCACGGCCACCATGGCGTATTAGGGGCAGCAGTGCCTGCGGCAGCATTGGCCTTTGCAGCGGCGGCAGCAGCACCAGGCTCTGCAGCGGCAACCCCCAGCGGCTTAAGCCATGGCGTGAGTACCGGGGCGGGTCGTCCAGCTGTGCTCCTGGGGCCGGCGCGGGTTTTGGATTGGTGGGGTGCGGCCTGGGGCCAGGGCGGTGCCGCCAAGGGGGAAGCGATTTAACGAGCGCCCGGGACGCGTGGTCTTTGCTTGGGTGTCCCCGAGACGCTCGCGTGCCTGGGATCGGGAAAGCGTAGTCGGGTGCCCGGACTGCTTCCCCAGGAGCCCTACAGCCCTCGGACCCCGAGCCCCGCAAGGGTCCCAGGGGTCTTGGCTGTTGCCCCACGAAACGTGGCAGGAACCAAGATGGCGGCGGCAGGGCGGCGGCGCGGGCGTGAGTCAAGGGCGGGCGGTGGGCGGGGCGCGGCCGCCCTGGCCGTATTTGGACGTGGGGACGGAGCGCTTTCCTCTTGGCGGCCGGTGGAAGAATCCCCTGGTCTCCGTGAGCGTCCATTTTGTGGAACCTGAGTTGCAAGCAGGGAGGGGCAAATACAACTGCCCTGTTCCCGATTCTCTAGATGGCCGATCTAGAGAAGTCCCGCCTCATAAGTGGAAGGATGAAATTCTCAGAACAGCTAACCTCTAATGGGAGTTGGCTTCTGATTCTCATTCAGGCTTCTCACGGCATTCAGCAGCAGCGTTGCTGTAACCGACAAAGACACCTTCGAATTAAGCACATTCCTCGATTCCAGCAAAGCACCGCAACATGACCGAAATGAGCTTCCTGAGCAGCGAGGTGTTGGTGGGGGACTTGATGTCCCCCTTCGACCAGTCGGGTTTGGGGGCTGAAGAAAGCCTAGGTCTCTTAGATGATTACCTGGAGGTGGCCAAGCACTTCAAACCTCATGGGTTCTCCAGCGACAAGGCTAAGGCGGGCTCCTCCGAATGGCTGGCTGTGGATGGGTTGGTCAGTCCCTCCAACAACAGCAAGGGTGAGTGGGCCACCACCACATCGTCCTGGTGGGATCTAGGGTTAGGGGCCTCCTACCTTTGTATCTGACTCACTTGGCCCCATCACTCAAATGTTTTGCAGAGGATGCCTTCTCCGGGACAGATTGGATGTTGGAGAAAATGGATTTGAAGGAGTTCGACTTGGATGCCCTGTTGGGTATAGATGACCTGGAAACCATGCCAGATGACCTTCTGACCACGTTGGATGACACTTGTGATCTCTTTGCCCCCCTAGTCCAGGAGACTAATAAGCAGCCCCCCCAGACGGTGAACCCAATTGGCCATCTCCCAGAAAGTTTAACAAAACCCGACCAGGTTGCCCCCTTCACCTTCTTACAACCTCTTCCCCTTTCCCCAGGGGTCCTGTCCTCCACTCCAGATCATTCCTTTAGTTTAGAGCTGGGCAGTGAAGTGGATATCACTGAAGGAGATAGGAAGCCAGACTACACTGCTTACGTTGCCATGATCCCTCAGTGCATAAAGGAGGAAGACACCCCTTCAGATAATGATAGTGGCATCTGTATGAGCCCAGAGTCCTATCTGGGGTCTCCTCAGCACAGCCCCTCTACCAGGGGCTCTCCAAATAGGAGCCTCCCATCTCCAGGTGTTCTCTGTGGGTCTGCCCGTCCCAAACCTTACGATCCTCCTGGAGAGAAGATGGTAGCAGCAAAAGTAAAGGGTGAGAAACTGGATAAGAAGCTGAAAAAAATGGAGCAAAACAAGACAGCAGCCACTAGGTACCGCCAGAAGAAGAGGGCGGAGCAGGAGGCTCTTACTGGTGAGTGCAAAGAGCTGGAAAAGAAGAACGAGGCTCTAAAAGAGAGGGCGGATTCCCTGGCCAAGGAGATCCAGTACCTGAAAGATTTGATAGAAGAGGTCCGCAAGGCAAGGGGGAAGAAAAGGGTCCCCTAG', '>ENST00000675582 chromosome:GRCh38:22:39520564:39522602:1', 'TTTCTACTTTGCCCGCCCACAGATGTAGTTTTCTCTGCGCGTGTGCGTTTTCCCTCCTCCCCGCCCTCAGGGTCCACGGCCACCATGGCGTATTAGGGGCAGCAGTGCCTGCGGCAGCATTGGCCTTTGCAGCGGCGGCAGCAGCACCAGGCTCTGCAGCGGCAACCCCCAGCGGCTTAAGCCATGGCGTGAGTACCGGGGCGGGTCGTCCAGCTGTGCTCCTGGGGCCGGCGCGGGTTTTGGATTGGTGGGGTGCGGCCTGGGGCCAGGGCGGTGCCGCCAAGGGGGAAGCGATTTAACGAGCGCCCGGGACGCGTGGTCTTTGCTTGGGTGTCCCCGAGACGCTCGCGTGCCTGGGATCGGGAAAGCGTAGTCGGGTGCCCGGACTGCTTCCCCAGGAGCCCTACAGCCCTCGGACCCCGAGCCCCGCAAGGGTCCCAGGGGTCTTGGCTGTTGCCCCACGAAACGTGGCAGGAACCAAGATGGCGGCGGCAGGGCGGCGGCGCGGGCGTGAGTCAAGGGCGGGCGGTGGGCGGGGCGCGGCCGCCCTGGCCGTATTTGGACGTGGGGACGGAGCGCTTTCCTCTTGGCGGCCGGTGGAAGAATCCCCTGGTCTCCGTGAGCGTCCATTTTGTGGAACCTGAGTTGCAAGCAGGGAGGGGCAAATACAACTGCCCTGTTCCCGATTCTCTAGATGGCCGATCTAGAGAAGTCCCGCCTCATAAGTGGAAGGATGAAATTCTCAGAACAGCTAACCTCTAATGGGAGTTGGCTTCTGATTCTCATTCAGGCTTCTCACGGCATTCAGCAGCAGCGTTGCTGTAACCGACAAAGACACCTTCGAATTAAGCACATTCCTCGATTCCAGCAAAGCACCGCAACATGACCGAAATGAGCTTCCTGAGCAGCGAGGTGTTGGTGGGGGACTTGATGTCCCCCTTCGACCAGTCGGGTTTGGGGGCTGAAGAAAGCCTAGGTCTCTTAGATGATTACCTGGAGGTGGCCAAGCACTTCAAACCTCATGGGTTCTCCAGCGACAAGGCTAAGGCGGGCTCCTCCGAATGGCTGGCTGTGGATGGGTTGGTCAGTCCCTCCAACAACAGCAAGGGTGAGTGGGCCACCACCACATCGTCCTGGTGGGATCTAGGGTTAGGGGCCTCCTACCTTTGTATCTGACTCACTTGGCCCCATCACTCAAATGTTTTGCAGAGGATGCCTTCTCCGGGACAGATTGGATGTTGGAGAAAATGGATTTGAAGGAGTTCGACTTGGATGCCCTGTTGGGTATAGATGACCTGGAAACCATGCCAGATGACCTTCTGACCACGTTGGATGACACTTGTGATCTCTTTGCCCCCCTAGTCCAGGAGACTAATAAGCAGCCCCCCCAGACGGTGAACCCAATTGGCCATCTCCCAGAAAGTTTAACAAAACCCGACCAGGTTGCCCCCTTCACCTTCTTACAACCTCTTCCCCTTTCCCCAGGGGTCCTGTCCTCCACTCCAGATCATTCCTTTAGTTTAGAGCTGGGCAGTGAAGTGGATATCACTGAAGGAGATAGGAAGCCAGACTACACTGCTTACGTTGCCATGATCCCTCAGTGCATAAAGGAGGAAGACACCCCTTCAGATAATGATAGTGGCATCTGTATGAGCCCAGAGTCCTATCTGGGGTCTCCTCAGCACAGCCCCTCTACCAGGGGCTCTCCAAATAGGAGCCTCCCATCTCCAGGTGTTCTCTGTGGGTCTGCCCGTCCCAAACCTTACGATCCTCCTGGAGAGAAGATGGTAGCAGCAAAAGTAAAGGGTGAGAAACTGGATAAGAAGCTGAAAAAAATGGAGCAAAACAAGACAGCAGCCACTAGGTACCGCCAGAAGAAGAGGGCGGAGCAGGAGGCTCTTACTGGTGAGTGCAAAGAGCTGGAAAAGAAGAACGAGGCTCTAAAAGAGAGGGCGGATTCCCTGGCCAAGGAGATCCAGTACCTGAAAGATTTGATAGAAGAGGTCCGCAAGGCAAGGGGGAAGAAAAGGGTCCCCTAG', '>ENST00000337304 chromosome:GRCh38:22:39520564:39522683:1', 'TTTCTACTTTGCCCGCCCACAGATGTAGTTTTCTCTGCGCGTGTGCGTTTTCCCTCCTCCCCGCCCTCAGGGTCCACGGCCACCATGGCGTATTAGGGGCAGCAGTGCCTGCGGCAGCATTGGCCTTTGCAGCGGCGGCAGCAGCACCAGGCTCTGCAGCGGCAACCCCCAGCGGCTTAAGCCATGGCGTGAGTACCGGGGCGGGTCGTCCAGCTGTGCTCCTGGGGCCGGCGCGGGTTTTGGATTGGTGGGGTGCGGCCTGGGGCCAGGGCGGTGCCGCCAAGGGGGAAGCGATTTAACGAGCGCCCGGGACGCGTGGTCTTTGCTTGGGTGTCCCCGAGACGCTCGCGTGCCTGGGATCGGGAAAGCGTAGTCGGGTGCCCGGACTGCTTCCCCAGGAGCCCTACAGCCCTCGGACCCCGAGCCCCGCAAGGGTCCCAGGGGTCTTGGCTGTTGCCCCACGAAACGTGGCAGGAACCAAGATGGCGGCGGCAGGGCGGCGGCGCGGGCGTGAGTCAAGGGCGGGCGGTGGGCGGGGCGCGGCCGCCCTGGCCGTATTTGGACGTGGGGACGGAGCGCTTTCCTCTTGGCGGCCGGTGGAAGAATCCCCTGGTCTCCGTGAGCGTCCATTTTGTGGAACCTGAGTTGCAAGCAGGGAGGGGCAAATACAACTGCCCTGTTCCCGATTCTCTAGATGGCCGATCTAGAGAAGTCCCGCCTCATAAGTGGAAGGATGAAATTCTCAGAACAGCTAACCTCTAATGGGAGTTGGCTTCTGATTCTCATTCAGGCTTCTCACGGCATTCAGCAGCAGCGTTGCTGTAACCGACAAAGACACCTTCGAATTAAGCACATTCCTCGATTCCAGCAAAGCACCGCAACATGACCGAAATGAGCTTCCTGAGCAGCGAGGTGTTGGTGGGGGACTTGATGTCCCCCTTCGACCAGTCGGGTTTGGGGGCTGAAGAAAGCCTAGGTCTCTTAGATGATTACCTGGAGGTGGCCAAGCACTTCAAACCTCATGGGTTCTCCAGCGACAAGGCTAAGGCGGGCTCCTCCGAATGGCTGGCTGTGGATGGGTTGGTCAGTCCCTCCAACAACAGCAAGGGTGAGTGGGCCACCACCACATCGTCCTGGTGGGATCTAGGGTTAGGGGCCTCCTACCTTTGTATCTGACTCACTTGGCCCCATCACTCAAATGTTTTGCAGAGGATGCCTTCTCCGGGACAGATTGGATGTTGGAGAAAATGGATTTGAAGGAGTTCGACTTGGATGCCCTGTTGGGTATAGATGACCTGGAAACCATGCCAGATGACCTTCTGACCACGTTGGATGACACTTGTGATCTCTTTGCCCCCCTAGTCCAGGAGACTAATAAGCAGCCCCCCCAGACGGTGAACCCAATTGGCCATCTCCCAGAAAGTTTAACAAAACCCGACCAGGTTGCCCCCTTCACCTTCTTACAACCTCTTCCCCTTTCCCCAGGGGTCCTGTCCTCCACTCCAGATCATTCCTTTAGTTTAGAGCTGGGCAGTGAAGTGGATATCACTGAAGGAGATAGGAAGCCAGACTACACTGCTTACGTTGCCATGATCCCTCAGTGCATAAAGGAGGAAGACACCCCTTCAGATAATGATAGTGGCATCTGTATGAGCCCAGAGTCCTATCTGGGGTCTCCTCAGCACAGCCCCTCTACCAGGGGCTCTCCAAATAGGAGCCTCCCATCTCCAGGTGTTCTCTGTGGGTCTGCCCGTCCCAAACCTTACGATCCTCCTGGAGAGAAGATGGTAGCAGCAAAAGTAAAGGGTGAGAAACTGGATAAGAAGCTGAAAAAAATGGAGCAAAACAAGACAGCAGCCACTAGGTACCGCCAGAAGAAGAGGGCGGAGCAGGAGGCTCTTACTGGTGAGTGCAAAGAGCTGGAAAAGAAGAACGAGGCTCTAAAAGAGAGGGCGGATTCCCTGGCCAAGGAGATCCAGTACCTGAAAGATTTGATAGAAGAGGTCCGCAAGGCAAGGGGGAAGAAAAGGGTCCCCTAGTTGAGGATAGTCAGGAGCGTCAATGTGCTTGTACATAGAGTGCTGTAGCTGTGTGTTCCAATAAATTATTTTGTAGGGAAA', '>ENST00000676346 chromosome:GRCh38:22:39520576:39522602:1', 'CCGCCCACAGATGTAGTTTTCTCTGCGCGTGTGCGTTTTCCCTCCTCCCCGCCCTCAGGGTCCACGGCCACCATGGCGTATTAGGGGCAGCAGTGCCTGCGGCAGCATTGGCCTTTGCAGCGGCGGCAGCAGCACCAGGCTCTGCAGCGGCAACCCCCAGCGGCTTAAGCCATGGCGTGAGTACCGGGGCGGGTCGTCCAGCTGTGCTCCTGGGGCCGGCGCGGGTTTTGGATTGGTGGGGTGCGGCCTGGGGCCAGGGCGGTGCCGCCAAGGGGGAAGCGATTTAACGAGCGCCCGGGACGCGTGGTCTTTGCTTGGGTGTCCCCGAGACGCTCGCGTGCCTGGGATCGGGAAAGCGTAGTCGGGTGCCCGGACTGCTTCCCCAGGAGCCCTACAGCCCTCGGACCCCGAGCCCCGCAAGGGTCCCAGGGGTCTTGGCTGTTGCCCCACGAAACGTGGCAGGAACCAAGATGGCGGCGGCAGGGCGGCGGCGCGGGCGTGAGTCAAGGGCGGGCGGTGGGCGGGGCGCGGCCGCCCTGGCCGTATTTGGACGTGGGGACGGAGCGCTTTCCTCTTGGCGGCCGGTGGAAGAATCCCCTGGTCTCCGTGAGCGTCCATTTTGTGGAACCTGAGTTGCAAGCAGGGAGGGGCAAATACAACTGCCCTGTTCCCGATTCTCTAGATGGCCGATCTAGAGAAGTCCCGCCTCATAAGTGGAAGGATGAAATTCTCAGAACAGCTAACCTCTAATGGGAGTTGGCTTCTGATTCTCATTCAGGCTTCTCACGGCATTCAGCAGCAGCGTTGCTGTAACCGACAAAGACACCTTCGAATTAAGCACATTCCTCGATTCCAGCAAAGCACCGCAACATGACCGAAATGAGCTTCCTGAGCAGCGAGGTGTTGGTGGGGGACTTGATGTCCCCCTTCGACCAGTCGGGTTTGGGGGCTGAAGAAAGCCTAGGTCTCTTAGATGATTACCTGGAGGTGGCCAAGCACTTCAAACCTCATGGGTTCTCCAGCGACAAGGCTAAGGCGGGCTCCTCCGAATGGCTGGCTGTGGATGGGTTGGTCAGTCCCTCCAACAACAGCAAGGGTGAGTGGGCCACCACCACATCGTCCTGGTGGGATCTAGGGTTAGGGGCCTCCTACCTTTGTATCTGACTCACTTGGCCCCATCACTCAAATGTTTTGCAGAGGATGCCTTCTCCGGGACAGATTGGATGTTGGAGAAAATGGATTTGAAGGAGTTCGACTTGGATGCCCTGTTGGGTATAGATGACCTGGAAACCATGCCAGATGACCTTCTGACCACGTTGGATGACACTTGTGATCTCTTTGCCCCCCTAGTCCAGGAGACTAATAAGCAGCCCCCCCAGACGGTGAACCCAATTGGCCATCTCCCAGAAAGTTTAACAAAACCCGACCAGGTTGCCCCCTTCACCTTCTTACAACCTCTTCCCCTTTCCCCAGGGGTCCTGTCCTCCACTCCAGATCATTCCTTTAGTTTAGAGCTGGGCAGTGAAGTGGATATCACTGAAGGAGATAGGAAGCCAGACTACACTGCTTACGTTGCCATGATCCCTCAGTGCATAAAGGAGGAAGACACCCCTTCAGATAATGATAGTGGCATCTGTATGAGCCCAGAGTCCTATCTGGGGTCTCCTCAGCACAGCCCCTCTACCAGGGGCTCTCCAAATAGGAGCCTCCCATCTCCAGGTGTTCTCTGTGGGTCTGCCCGTCCCAAACCTTACGATCCTCCTGGAGAGAAGATGGTAGCAGCAAAAGTAAAGGGTGAGAAACTGGATAAGAAGCTGAAAAAAATGGAGCAAAACAAGACAGCAGCCACTAGGTACCGCCAGAAGAAGAGGGCGGAGCAGGAGGCTCTTACTGGTGAGTGCAAAGAGCTGGAAAAGAAGAACGAGGCTCTAAAAGAGAGGGCGGATTCCCTGGCCAAGGAGATCCAGTACCTGAAAGATTTGATAGAAGAGGTCCGCAAGGCAAGGGGGAAGAAAAGGGTCCCCTAG', '>ENST00000396680 chromosome:GRCh38:22:39520576:39522668:1', 'CCGCCCACAGATGTAGTTTTCTCTGCGCGTGTGCGTTTTCCCTCCTCCCCGCCCTCAGGGTCCACGGCCACCATGGCGTATTAGGGGCAGCAGTGCCTGCGGCAGCATTGGCCTTTGCAGCGGCGGCAGCAGCACCAGGCTCTGCAGCGGCAACCCCCAGCGGCTTAAGCCATGGCGTGAGTACCGGGGCGGGTCGTCCAGCTGTGCTCCTGGGGCCGGCGCGGGTTTTGGATTGGTGGGGTGCGGCCTGGGGCCAGGGCGGTGCCGCCAAGGGGGAAGCGATTTAACGAGCGCCCGGGACGCGTGGTCTTTGCTTGGGTGTCCCCGAGACGCTCGCGTGCCTGGGATCGGGAAAGCGTAGTCGGGTGCCCGGACTGCTTCCCCAGGAGCCCTACAGCCCTCGGACCCCGAGCCCCGCAAGGGTCCCAGGGGTCTTGGCTGTTGCCCCACGAAACGTGGCAGGAACCAAGATGGCGGCGGCAGGGCGGCGGCGCGGGCGTGAGTCAAGGGCGGGCGGTGGGCGGGGCGCGGCCGCCCTGGCCGTATTTGGACGTGGGGACGGAGCGCTTTCCTCTTGGCGGCCGGTGGAAGAATCCCCTGGTCTCCGTGAGCGTCCATTTTGTGGAACCTGAGTTGCAAGCAGGGAGGGGCAAATACAACTGCCCTGTTCCCGATTCTCTAGATGGCCGATCTAGAGAAGTCCCGCCTCATAAGTGGAAGGATGAAATTCTCAGAACAGCTAACCTCTAATGGGAGTTGGCTTCTGATTCTCATTCAGGCTTCTCACGGCATTCAGCAGCAGCGTTGCTGTAACCGACAAAGACACCTTCGAATTAAGCACATTCCTCGATTCCAGCAAAGCACCGCAACATGACCGAAATGAGCTTCCTGAGCAGCGAGGTGTTGGTGGGGGACTTGATGTCCCCCTTCGACCAGTCGGGTTTGGGGGCTGAAGAAAGCCTAGGTCTCTTAGATGATTACCTGGAGGTGGCCAAGCACTTCAAACCTCATGGGTTCTCCAGCGACAAGGCTAAGGCGGGCTCCTCCGAATGGCTGGCTGTGGATGGGTTGGTCAGTCCCTCCAACAACAGCAAGGGTGAGTGGGCCACCACCACATCGTCCTGGTGGGATCTAGGGTTAGGGGCCTCCTACCTTTGTATCTGACTCACTTGGCCCCATCACTCAAATGTTTTGCAGAGGATGCCTTCTCCGGGACAGATTGGATGTTGGAGAAAATGGATTTGAAGGAGTTCGACTTGGATGCCCTGTTGGGTATAGATGACCTGGAAACCATGCCAGATGACCTTCTGACCACGTTGGATGACACTTGTGATCTCTTTGCCCCCCTAGTCCAGGAGACTAATAAGCAGCCCCCCCAGACGGTGAACCCAATTGGCCATCTCCCAGAAAGTTTAACAAAACCCGACCAGGTTGCCCCCTTCACCTTCTTACAACCTCTTCCCCTTTCCCCAGGGGTCCTGTCCTCCACTCCAGATCATTCCTTTAGTTTAGAGCTGGGCAGTGAAGTGGATATCACTGAAGGAGATAGGAAGCCAGACTACACTGCTTACGTTGCCATGATCCCTCAGTGCATAAAGGAGGAAGACACCCCTTCAGATAATGATAGTGGCATCTGTATGAGCCCAGAGTCCTATCTGGGGTCTCCTCAGCACAGCCCCTCTACCAGGGGCTCTCCAAATAGGAGCCTCCCATCTCCAGGTGTTCTCTGTGGGTCTGCCCGTCCCAAACCTTACGATCCTCCTGGAGAGAAGATGGTAGCAGCAAAAGTAAAGGGTGAGAAACTGGATAAGAAGCTGAAAAAAATGGAGCAAAACAAGACAGCAGCCACTAGGTACCGCCAGAAGAAGAGGGCGGAGCAGGAGGCTCTTACTGGTGAGTGCAAAGAGCTGGAAAAGAAGAACGAGGCTCTAAAAGAGAGGGCGGATTCCCTGGCCAAGGAGATCCAGTACCTGAAAGATTTGATAGAAGAGGTCCGCAAGGCAAGGGGGAAGAAAAGGGTCCCCTAGTTGAGGATAGTCAGGAGCGTCAATGTGCTTGTACATAGAGTGCTGTAGCTGTGTGTTCCAATAAAT', '>ENST00000680446 chromosome:GRCh38:22:39520578:39522602:1', 'GCCCACAGATGTAGTTTTCTCTGCGCGTGTGCGTTTTCCCTCCTCCCCGCCCTCAGGGTCCACGGCCACCATGGCGTATTAGGGGCAGCAGTGCCTGCGGCAGCATTGGCCTTTGCAGCGGCGGCAGCAGCACCAGGCTCTGCAGCGGCAACCCCCAGCGGCTTAAGCCATGGCGTGAGTACCGGGGCGGGTCGTCCAGCTGTGCTCCTGGGGCCGGCGCGGGTTTTGGATTGGTGGGGTGCGGCCTGGGGCCAGGGCGGTGCCGCCAAGGGGGAAGCGATTTAACGAGCGCCCGGGACGCGTGGTCTTTGCTTGGGTGTCCCCGAGACGCTCGCGTGCCTGGGATCGGGAAAGCGTAGTCGGGTGCCCGGACTGCTTCCCCAGGAGCCCTACAGCCCTCGGACCCCGAGCCCCGCAAGGGTCCCAGGGGTCTTGGCTGTTGCCCCACGAAACGTGGCAGGAACCAAGATGGCGGCGGCAGGGCGGCGGCGCGGGCGTGAGTCAAGGGCGGGCGGTGGGCGGGGCGCGGCCGCCCTGGCCGTATTTGGACGTGGGGACGGAGCGCTTTCCTCTTGGCGGCCGGTGGAAGAATCCCCTGGTCTCCGTGAGCGTCCATTTTGTGGAACCTGAGTTGCAAGCAGGGAGGGGCAAATACAACTGCCCTGTTCCCGATTCTCTAGATGGCCGATCTAGAGAAGTCCCGCCTCATAAGTGGAAGGATGAAATTCTCAGAACAGCTAACCTCTAATGGGAGTTGGCTTCTGATTCTCATTCAGGCTTCTCACGGCATTCAGCAGCAGCGTTGCTGTAACCGACAAAGACACCTTCGAATTAAGCACATTCCTCGATTCCAGCAAAGCACCGCAACATGACCGAAATGAGCTTCCTGAGCAGCGAGGTGTTGGTGGGGGACTTGATGTCCCCCTTCGACCAGTCGGGTTTGGGGGCTGAAGAAAGCCTAGGTCTCTTAGATGATTACCTGGAGGTGGCCAAGCACTTCAAACCTCATGGGTTCTCCAGCGACAAGGCTAAGGCGGGCTCCTCCGAATGGCTGGCTGTGGATGGGTTGGTCAGTCCCTCCAACAACAGCAAGGGTGAGTGGGCCACCACCACATCGTCCTGGTGGGATCTAGGGTTAGGGGCCTCCTACCTTTGTATCTGACTCACTTGGCCCCATCACTCAAATGTTTTGCAGAGGATGCCTTCTCCGGGACAGATTGGATGTTGGAGAAAATGGATTTGAAGGAGTTCGACTTGGATGCCCTGTTGGGTATAGATGACCTGGAAACCATGCCAGATGACCTTCTGACCACGTTGGATGACACTTGTGATCTCTTTGCCCCCCTAGTCCAGGAGACTAATAAGCAGCCCCCCCAGACGGTGAACCCAATTGGCCATCTCCCAGAAAGTTTAACAAAACCCGACCAGGTTGCCCCCTTCACCTTCTTACAACCTCTTCCCCTTTCCCCAGGGGTCCTGTCCTCCACTCCAGATCATTCCTTTAGTTTAGAGCTGGGCAGTGAAGTGGATATCACTGAAGGAGATAGGAAGCCAGACTACACTGCTTACGTTGCCATGATCCCTCAGTGCATAAAGGAGGAAGACACCCCTTCAGATAATGATAGTGGCATCTGTATGAGCCCAGAGTCCTATCTGGGGTCTCCTCAGCACAGCCCCTCTACCAGGGGCTCTCCAAATAGGAGCCTCCCATCTCCAGGTGTTCTCTGTGGGTCTGCCCGTCCCAAACCTTACGATCCTCCTGGAGAGAAGATGGTAGCAGCAAAAGTAAAGGGTGAGAAACTGGATAAGAAGCTGAAAAAAATGGAGCAAAACAAGACAGCAGCCACTAGGTACCGCCAGAAGAAGAGGGCGGAGCAGGAGGCTCTTACTGGTGAGTGCAAAGAGCTGGAAAAGAAGAACGAGGCTCTAAAAGAGAGGGCGGATTCCCTGGCCAAGGAGATCCAGTACCTGAAAGATTTGATAGAAGAGGTCCGCAAGGCAAGGGGGAAGAAAAGGGTCCCCTAG', '>ENST00000674568 chromosome:GRCh38:22:39520579:39522602:1', 'CCCACAGATGTAGTTTTCTCTGCGCGTGTGCGTTTTCCCTCCTCCCCGCCCTCAGGGTCCACGGCCACCATGGCGTATTAGGGGCAGCAGTGCCTGCGGCAGCATTGGCCTTTGCAGCGGCGGCAGCAGCACCAGGCTCTGCAGCGGCAACCCCCAGCGGCTTAAGCCATGGCGTGAGTACCGGGGCGGGTCGTCCAGCTGTGCTCCTGGGGCCGGCGCGGGTTTTGGATTGGTGGGGTGCGGCCTGGGGCCAGGGCGGTGCCGCCAAGGGGGAAGCGATTTAACGAGCGCCCGGGACGCGTGGTCTTTGCTTGGGTGTCCCCGAGACGCTCGCGTGCCTGGGATCGGGAAAGCGTAGTCGGGTGCCCGGACTGCTTCCCCAGGAGCCCTACAGCCCTCGGACCCCGAGCCCCGCAAGGGTCCCAGGGGTCTTGGCTGTTGCCCCACGAAACGTGGCAGGAACCAAGATGGCGGCGGCAGGGCGGCGGCGCGGGCGTGAGTCAAGGGCGGGCGGTGGGCGGGGCGCGGCCGCCCTGGCCGTATTTGGACGTGGGGACGGAGCGCTTTCCTCTTGGCGGCCGGTGGAAGAATCCCCTGGTCTCCGTGAGCGTCCATTTTGTGGAACCTGAGTTGCAAGCAGGGAGGGGCAAATACAACTGCCCTGTTCCCGATTCTCTAGATGGCCGATCTAGAGAAGTCCCGCCTCATAAGTGGAAGGATGAAATTCTCAGAACAGCTAACCTCTAATGGGAGTTGGCTTCTGATTCTCATTCAGGCTTCTCACGGCATTCAGCAGCAGCGTTGCTGTAACCGACAAAGACACCTTCGAATTAAGCACATTCCTCGATTCCAGCAAAGCACCGCAACATGACCGAAATGAGCTTCCTGAGCAGCGAGGTGTTGGTGGGGGACTTGATGTCCCCCTTCGACCAGTCGGGTTTGGGGGCTGAAGAAAGCCTAGGTCTCTTAGATGATTACCTGGAGGTGGCCAAGCACTTCAAACCTCATGGGTTCTCCAGCGACAAGGCTAAGGCGGGCTCCTCCGAATGGCTGGCTGTGGATGGGTTGGTCAGTCCCTCCAACAACAGCAAGGGTGAGTGGGCCACCACCACATCGTCCTGGTGGGATCTAGGGTTAGGGGCCTCCTACCTTTGTATCTGACTCACTTGGCCCCATCACTCAAATGTTTTGCAGAGGATGCCTTCTCCGGGACAGATTGGATGTTGGAGAAAATGGATTTGAAGGAGTTCGACTTGGATGCCCTGTTGGGTATAGATGACCTGGAAACCATGCCAGATGACCTTCTGACCACGTTGGATGACACTTGTGATCTCTTTGCCCCCCTAGTCCAGGAGACTAATAAGCAGCCCCCCCAGACGGTGAACCCAATTGGCCATCTCCCAGAAAGTTTAACAAAACCCGACCAGGTTGCCCCCTTCACCTTCTTACAACCTCTTCCCCTTTCCCCAGGGGTCCTGTCCTCCACTCCAGATCATTCCTTTAGTTTAGAGCTGGGCAGTGAAGTGGATATCACTGAAGGAGATAGGAAGCCAGACTACACTGCTTACGTTGCCATGATCCCTCAGTGCATAAAGGAGGAAGACACCCCTTCAGATAATGATAGTGGCATCTGTATGAGCCCAGAGTCCTATCTGGGGTCTCCTCAGCACAGCCCCTCTACCAGGGGCTCTCCAAATAGGAGCCTCCCATCTCCAGGTGTTCTCTGTGGGTCTGCCCGTCCCAAACCTTACGATCCTCCTGGAGAGAAGATGGTAGCAGCAAAAGTAAAGGGTGAGAAACTGGATAAGAAGCTGAAAAAAATGGAGCAAAACAAGACAGCAGCCACTAGGTACCGCCAGAAGAAGAGGGCGGAGCAGGAGGCTCTTACTGGTGAGTGCAAAGAGCTGGAAAAGAAGAACGAGGCTCTAAAAGAGAGGGCGGATTCCCTGGCCAAGGAGATCCAGTACCTGAAAGATTTGATAGAAGAGGTCCGCAAGGCAAGGGGGAAGAAAAGGGTCCCCTAG', '>ENST00000680748 chromosome:GRCh38:22:39520589:39521953:1', 'TAGTTTTCTCTGCGCGTGTGCGTTTTCCCTCCTCCCCGCCCTCAGGGTCCACGGCCACCATGGCGTATTAGGGGCAGCAGTGCCTGCGGCAGCATTGGCCTTTGCAGCGGCGGCAGCAGCACCAGGCTCTGCAGCGGCAACCCCCAGCGGCTTAAGCCATGGCGTGAGTACCGGGGCGGGTCGTCCAGCTGTGCTCCTGGGGCCGGCGCGGGTTTTGGATTGGTGGGGTGCGGCCTGGGGCCAGGGCGGTGCCGCCAAGGGGGAAGCGATTTAACGAGCGCCCGGGACGCGTGGTCTTTGCTTGGGTGTCCCCGAGACGCTCGCGTGCCTGGGATCGGGAAAGCGTAGTCGGGTGCCCGGACTGCTTCCCCAGGAGCCCTACAGCCCTCGGACCCCGAGCCCCGCAAGGGTCCCAGGGGTCTTGGCTGTTGCCCCACGAAACGTGGCAGGAACCAAGATGGCGGCGGCAGGGCGGCGGCGCGGGCGTGAGTCAAGGGCGGGCGGTGGGCGGGGCGCGGCCGCCCTGGCCGTATTTGGACGTGGGGACGGAGCGCTTTCCTCTTGGCGGCCGGTGGAAGAATCCCCTGGTCTCCGTGAGCGTCCATTTTGTGGAACCTGAGTTGCAAGCAGGGAGGGGCAAATACAACTGCCCTGTTCCCGATTCTCTAGATGGCCGATCTAGAGAAGTCCCGCCTCATAAGTGGAAGGATGAAATTCTCAGAACAGCTAACCTCTAATGGGAGTTGGCTTCTGATTCTCATTCAGGCTTCTCACGGCATTCAGCAGCAGCGTTGCTGTAACCGACAAAGACACCTTCGAATTAAGCACATTCCTCGATTCCAGCAAAGCACCGCAACATGACCGAAATGAGCTTCCTGAGCAGCGAGGTGTTGGTGGGGGACTTGATGTCCCCCTTCGACCAGTCGGGTTTGGGGGCTGAAGAAAGCCTAGGTCTCTTAGATGATTACCTGGAGGTGGCCAAGCACTTCAAACCTCATGGGTTCTCCAGCGACAAGGCTAAGGCGGGCTCCTCCGAATGGCTGGCTGTGGATGGGTTGGTCAGTCCCTCCAACAACAGCAAGGGTGAGTGGGCCACCACCACATCGTCCTGGTGGGATCTAGGGTTAGGGGCCTCCTACCTTTGTATCTGACTCACTTGGCCCCATCACTCAAATGTTTTGCAGAGGATGCCTTCTCCGGGACAGATTGGATGTTGGAGAAAATGGATTTGAAGGAGTTCGACTTGGATGCCCTGTTGGGTATAGATGACCTGGAAACCATGCCAGATGACCTTCTGACCACGTTGGATGACACTTGTGATCTCTTTGCCCCCCTAGTCCAGGAGACTAATAAGCAGCCCCCCCA', '>ENST00000674835 chromosome:GRCh38:22:39520604:39522602:1', 'GTGTGCGTTTTCCCTCCTCCCCGCCCTCAGGGTCCACGGCCACCATGGCGTATTAGGGGCAGCAGTGCCTGCGGCAGCATTGGCCTTTGCAGCGGCGGCAGCAGCACCAGGCTCTGCAGCGGCAACCCCCAGCGGCTTAAGCCATGGCGTGAGTACCGGGGCGGGTCGTCCAGCTGTGCTCCTGGGGCCGGCGCGGGTTTTGGATTGGTGGGGTGCGGCCTGGGGCCAGGGCGGTGCCGCCAAGGGGGAAGCGATTTAACGAGCGCCCGGGACGCGTGGTCTTTGCTTGGGTGTCCCCGAGACGCTCGCGTGCCTGGGATCGGGAAAGCGTAGTCGGGTGCCCGGACTGCTTCCCCAGGAGCCCTACAGCCCTCGGACCCCGAGCCCCGCAAGGGTCCCAGGGGTCTTGGCTGTTGCCCCACGAAACGTGGCAGGAACCAAGATGGCGGCGGCAGGGCGGCGGCGCGGGCGTGAGTCAAGGGCGGGCGGTGGGCGGGGCGCGGCCGCCCTGGCCGTATTTGGACGTGGGGACGGAGCGCTTTCCTCTTGGCGGCCGGTGGAAGAATCCCCTGGTCTCCGTGAGCGTCCATTTTGTGGAACCTGAGTTGCAAGCAGGGAGGGGCAAATACAACTGCCCTGTTCCCGATTCTCTAGATGGCCGATCTAGAGAAGTCCCGCCTCATAAGTGGAAGGATGAAATTCTCAGAACAGCTAACCTCTAATGGGAGTTGGCTTCTGATTCTCATTCAGGCTTCTCACGGCATTCAGCAGCAGCGTTGCTGTAACCGACAAAGACACCTTCGAATTAAGCACATTCCTCGATTCCAGCAAAGCACCGCAACATGACCGAAATGAGCTTCCTGAGCAGCGAGGTGTTGGTGGGGGACTTGATGTCCCCCTTCGACCAGTCGGGTTTGGGGGCTGAAGAAAGCCTAGGTCTCTTAGATGATTACCTGGAGGTGGCCAAGCACTTCAAACCTCATGGGTTCTCCAGCGACAAGGCTAAGGCGGGCTCCTCCGAATGGCTGGCTGTGGATGGGTTGGTCAGTCCCTCCAACAACAGCAAGGGTGAGTGGGCCACCACCACATCGTCCTGGTGGGATCTAGGGTTAGGGGCCTCCTACCTTTGTATCTGACTCACTTGGCCCCATCACTCAAATGTTTTGCAGAGGATGCCTTCTCCGGGACAGATTGGATGTTGGAGAAAATGGATTTGAAGGAGTTCGACTTGGATGCCCTGTTGGGTATAGATGACCTGGAAACCATGCCAGATGACCTTCTGACCACGTTGGATGACACTTGTGATCTCTTTGCCCCCCTAGTCCAGGAGACTAATAAGCAGCCCCCCCAGACGGTGAACCCAATTGGCCATCTCCCAGAAAGTTTAACAAAACCCGACCAGGTTGCCCCCTTCACCTTCTTACAACCTCTTCCCCTTTCCCCAGGGGTCCTGTCCTCCACTCCAGATCATTCCTTTAGTTTAGAGCTGGGCAGTGAAGTGGATATCACTGAAGGAGATAGGAAGCCAGACTACACTGCTTACGTTGCCATGATCCCTCAGTGCATAAAGGAGGAAGACACCCCTTCAGATAATGATAGTGGCATCTGTATGAGCCCAGAGTCCTATCTGGGGTCTCCTCAGCACAGCCCCTCTACCAGGGGCTCTCCAAATAGGAGCCTCCCATCTCCAGGTGTTCTCTGTGGGTCTGCCCGTCCCAAACCTTACGATCCTCCTGGAGAGAAGATGGTAGCAGCAAAAGTAAAGGGTGAGAAACTGGATAAGAAGCTGAAAAAAATGGAGCAAAACAAGACAGCAGCCACTAGGTACCGCCAGAAGAAGAGGGCGGAGCAGGAGGCTCTTACTGGTGAGTGCAAAGAGCTGGAAAAGAAGAACGAGGCTCTAAAAGAGAGGGCGGATTCCCTGGCCAAGGAGATCCAGTACCTGAAAGATTTGATAGAAGAGGTCCGCAAGGCAAGGGGGAAGAAAAGGGTCCCCTAG']\n",
            "268 74 True\n",
            "206 74 True\n",
            "524 434 True\n",
            "1168 1052 True\n",
            "897 891 True\n",
            "965 953 True\n",
            "1061 1052 True\n",
            "1513 1351 True\n",
            "1755 1751 True\n",
            "1755 1751 True\n",
            "1648 1630 True\n",
            "2045 1944 True\n",
            "2045 1944 True\n",
            "2045 1944 True\n",
            "2016 1944 True\n",
            "2016 1944 True\n",
            "1981 1944 True\n",
            "2016 1944 True\n"
          ]
        },
        {
          "output_type": "display_data",
          "data": {
            "text/plain": [
              "<Figure size 640x480 with 2 Axes>"
            ],
            "image/png": "[encoded data removed]"
          },
          "metadata": {}
        },
        {
          "output_type": "execute_result",
          "data": {
            "text/plain": [
              "(<Figure size 640x480 with 2 Axes>, <Axes: >, <Axes: >)"
            ]
          },
          "metadata": {},
          "execution_count": 15
        }
      ]
    }
  ]
}