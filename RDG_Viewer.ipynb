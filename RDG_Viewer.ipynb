{
  "nbformat": 4,
  "nbformat_minor": 0,
  "metadata": {
    "colab": {
      "provenance": [],
      "authorship_tag": "ABX9TyM5K9X1qpRkFuQUbboZPwWr",
      "include_colab_link": true
    },
    "kernelspec": {
      "name": "python3",
      "display_name": "Python 3"
    },
    "language_info": {
      "name": "python"
    },
    "widgets": {
      "application/vnd.jupyter.widget-state+json": {
        "8229849e16d046d280fc9f2b035cdd3a": {
          "model_module": "@jupyter-widgets/controls",
          "model_name": "FloatRangeSliderModel",
          "model_module_version": "1.5.0",
          "state": {
            "_dom_classes": [],
            "_model_module": "@jupyter-widgets/controls",
            "_model_module_version": "1.5.0",
            "_model_name": "FloatRangeSliderModel",
            "_view_count": null,
            "_view_module": "@jupyter-widgets/controls",
            "_view_module_version": "1.5.0",
            "_view_name": "FloatRangeSliderView",
            "continuous_update": false,
            "description": "Translon 1:",
            "description_tooltip": null,
            "disabled": false,
            "layout": "IPY_MODEL_6b1ee18efda74a1eada62c270071406e",
            "max": 2041,
            "min": 0,
            "orientation": "horizontal",
            "readout": true,
            "readout_format": ".1f",
            "step": 1,
            "style": "IPY_MODEL_265e1cdcaebf4bca95f34d8ca645acf1",
            "value": [
              486,
              649
            ]
          }
        },
        "6b1ee18efda74a1eada62c270071406e": {
          "model_module": "@jupyter-widgets/base",
          "model_name": "LayoutModel",
          "model_module_version": "1.2.0",
          "state": {
            "_model_module": "@jupyter-widgets/base",
            "_model_module_version": "1.2.0",
            "_model_name": "LayoutModel",
            "_view_count": null,
            "_view_module": "@jupyter-widgets/base",
            "_view_module_version": "1.2.0",
            "_view_name": "LayoutView",
            "align_content": null,
            "align_items": null,
            "align_self": null,
            "border": null,
            "bottom": null,
            "display": null,
            "flex": null,
            "flex_flow": null,
            "grid_area": null,
            "grid_auto_columns": null,
            "grid_auto_flow": null,
            "grid_auto_rows": null,
            "grid_column": null,
            "grid_gap": null,
            "grid_row": null,
            "grid_template_areas": null,
            "grid_template_columns": null,
            "grid_template_rows": null,
            "height": "40px",
            "justify_content": null,
            "justify_items": null,
            "left": null,
            "margin": null,
            "max_height": null,
            "max_width": null,
            "min_height": null,
            "min_width": null,
            "object_fit": null,
            "object_position": null,
            "order": null,
            "overflow": null,
            "overflow_x": null,
            "overflow_y": null,
            "padding": null,
            "right": null,
            "top": null,
            "visibility": null,
            "width": "50%"
          }
        },
        "265e1cdcaebf4bca95f34d8ca645acf1": {
          "model_module": "@jupyter-widgets/controls",
          "model_name": "SliderStyleModel",
          "model_module_version": "1.5.0",
          "state": {
            "_model_module": "@jupyter-widgets/controls",
            "_model_module_version": "1.5.0",
            "_model_name": "SliderStyleModel",
            "_view_count": null,
            "_view_module": "@jupyter-widgets/base",
            "_view_module_version": "1.2.0",
            "_view_name": "StyleView",
            "description_width": "",
            "handle_color": null
          }
        },
        "17ca9a8e9f1349f7a063d0193f581fda": {
          "model_module": "@jupyter-widgets/controls",
          "model_name": "FloatRangeSliderModel",
          "model_module_version": "1.5.0",
          "state": {
            "_dom_classes": [],
            "_model_module": "@jupyter-widgets/controls",
            "_model_module_version": "1.5.0",
            "_model_name": "FloatRangeSliderModel",
            "_view_count": null,
            "_view_module": "@jupyter-widgets/controls",
            "_view_module_version": "1.5.0",
            "_view_name": "FloatRangeSliderView",
            "continuous_update": false,
            "description": "Translon 2:",
            "description_tooltip": null,
            "disabled": false,
            "layout": "IPY_MODEL_3e4e2892296243a494dc7d138c244d01",
            "max": 2041,
            "min": 0,
            "orientation": "horizontal",
            "readout": true,
            "readout_format": ".1f",
            "step": 1,
            "style": "IPY_MODEL_542192fc66d74b51b5ef0b521b8e9e65",
            "value": [
              700,
              891
            ]
          }
        },
        "3e4e2892296243a494dc7d138c244d01": {
          "model_module": "@jupyter-widgets/base",
          "model_name": "LayoutModel",
          "model_module_version": "1.2.0",
          "state": {
            "_model_module": "@jupyter-widgets/base",
            "_model_module_version": "1.2.0",
            "_model_name": "LayoutModel",
            "_view_count": null,
            "_view_module": "@jupyter-widgets/base",
            "_view_module_version": "1.2.0",
            "_view_name": "LayoutView",
            "align_content": null,
            "align_items": null,
            "align_self": null,
            "border": null,
            "bottom": null,
            "display": null,
            "flex": null,
            "flex_flow": null,
            "grid_area": null,
            "grid_auto_columns": null,
            "grid_auto_flow": null,
            "grid_auto_rows": null,
            "grid_column": null,
            "grid_gap": null,
            "grid_row": null,
            "grid_template_areas": null,
            "grid_template_columns": null,
            "grid_template_rows": null,
            "height": "40px",
            "justify_content": null,
            "justify_items": null,
            "left": null,
            "margin": null,
            "max_height": null,
            "max_width": null,
            "min_height": null,
            "min_width": null,
            "object_fit": null,
            "object_position": null,
            "order": null,
            "overflow": null,
            "overflow_x": null,
            "overflow_y": null,
            "padding": null,
            "right": null,
            "top": null,
            "visibility": null,
            "width": "50%"
          }
        },
        "542192fc66d74b51b5ef0b521b8e9e65": {
          "model_module": "@jupyter-widgets/controls",
          "model_name": "SliderStyleModel",
          "model_module_version": "1.5.0",
          "state": {
            "_model_module": "@jupyter-widgets/controls",
            "_model_module_version": "1.5.0",
            "_model_name": "SliderStyleModel",
            "_view_count": null,
            "_view_module": "@jupyter-widgets/base",
            "_view_module_version": "1.2.0",
            "_view_name": "StyleView",
            "description_width": "",
            "handle_color": null
          }
        },
        "7d0f97d4e2ca4d4996b64095de7b4d34": {
          "model_module": "@jupyter-widgets/controls",
          "model_name": "FloatRangeSliderModel",
          "model_module_version": "1.5.0",
          "state": {
            "_dom_classes": [],
            "_model_module": "@jupyter-widgets/controls",
            "_model_module_version": "1.5.0",
            "_model_name": "FloatRangeSliderModel",
            "_view_count": null,
            "_view_module": "@jupyter-widgets/controls",
            "_view_module_version": "1.5.0",
            "_view_name": "FloatRangeSliderView",
            "continuous_update": false,
            "description": "Translon 3:",
            "description_tooltip": null,
            "disabled": false,
            "layout": "IPY_MODEL_cf50198204f34e558cbbd386489efce1",
            "max": 2041,
            "min": 0,
            "orientation": "horizontal",
            "readout": true,
            "readout_format": ".1f",
            "step": 1,
            "style": "IPY_MODEL_7b82bf9ce1e0436b849914b4a74aaeb5",
            "value": [
              888,
              1943
            ]
          }
        },
        "cf50198204f34e558cbbd386489efce1": {
          "model_module": "@jupyter-widgets/base",
          "model_name": "LayoutModel",
          "model_module_version": "1.2.0",
          "state": {
            "_model_module": "@jupyter-widgets/base",
            "_model_module_version": "1.2.0",
            "_model_name": "LayoutModel",
            "_view_count": null,
            "_view_module": "@jupyter-widgets/base",
            "_view_module_version": "1.2.0",
            "_view_name": "LayoutView",
            "align_content": null,
            "align_items": null,
            "align_self": null,
            "border": null,
            "bottom": null,
            "display": null,
            "flex": null,
            "flex_flow": null,
            "grid_area": null,
            "grid_auto_columns": null,
            "grid_auto_flow": null,
            "grid_auto_rows": null,
            "grid_column": null,
            "grid_gap": null,
            "grid_row": null,
            "grid_template_areas": null,
            "grid_template_columns": null,
            "grid_template_rows": null,
            "height": "40px",
            "justify_content": null,
            "justify_items": null,
            "left": null,
            "margin": null,
            "max_height": null,
            "max_width": null,
            "min_height": null,
            "min_width": null,
            "object_fit": null,
            "object_position": null,
            "order": null,
            "overflow": null,
            "overflow_x": null,
            "overflow_y": null,
            "padding": null,
            "right": null,
            "top": null,
            "visibility": null,
            "width": "50%"
          }
        },
        "7b82bf9ce1e0436b849914b4a74aaeb5": {
          "model_module": "@jupyter-widgets/controls",
          "model_name": "SliderStyleModel",
          "model_module_version": "1.5.0",
          "state": {
            "_model_module": "@jupyter-widgets/controls",
            "_model_module_version": "1.5.0",
            "_model_name": "SliderStyleModel",
            "_view_count": null,
            "_view_module": "@jupyter-widgets/base",
            "_view_module_version": "1.2.0",
            "_view_name": "StyleView",
            "description_width": "",
            "handle_color": null
          }
        },
        "8813ded6977e4494892e18939f3a3f6d": {
          "model_module": "@jupyter-widgets/controls",
          "model_name": "FloatRangeSliderModel",
          "model_module_version": "1.5.0",
          "state": {
            "_dom_classes": [],
            "_model_module": "@jupyter-widgets/controls",
            "_model_module_version": "1.5.0",
            "_model_name": "FloatRangeSliderModel",
            "_view_count": null,
            "_view_module": "@jupyter-widgets/controls",
            "_view_module_version": "1.5.0",
            "_view_name": "FloatRangeSliderView",
            "continuous_update": false,
            "description": "Translon 4:",
            "description_tooltip": null,
            "disabled": false,
            "layout": "IPY_MODEL_fcea0dfbc5eb4dffa5511b1ce1c8ea48",
            "max": 2041,
            "min": 0,
            "orientation": "horizontal",
            "readout": true,
            "readout_format": ".1f",
            "step": 1,
            "style": "IPY_MODEL_83a9f4300217494da2e864553fcc1e63",
            "value": [
              0,
              0
            ]
          }
        },
        "fcea0dfbc5eb4dffa5511b1ce1c8ea48": {
          "model_module": "@jupyter-widgets/base",
          "model_name": "LayoutModel",
          "model_module_version": "1.2.0",
          "state": {
            "_model_module": "@jupyter-widgets/base",
            "_model_module_version": "1.2.0",
            "_model_name": "LayoutModel",
            "_view_count": null,
            "_view_module": "@jupyter-widgets/base",
            "_view_module_version": "1.2.0",
            "_view_name": "LayoutView",
            "align_content": null,
            "align_items": null,
            "align_self": null,
            "border": null,
            "bottom": null,
            "display": null,
            "flex": null,
            "flex_flow": null,
            "grid_area": null,
            "grid_auto_columns": null,
            "grid_auto_flow": null,
            "grid_auto_rows": null,
            "grid_column": null,
            "grid_gap": null,
            "grid_row": null,
            "grid_template_areas": null,
            "grid_template_columns": null,
            "grid_template_rows": null,
            "height": "40px",
            "justify_content": null,
            "justify_items": null,
            "left": null,
            "margin": null,
            "max_height": null,
            "max_width": null,
            "min_height": null,
            "min_width": null,
            "object_fit": null,
            "object_position": null,
            "order": null,
            "overflow": null,
            "overflow_x": null,
            "overflow_y": null,
            "padding": null,
            "right": null,
            "top": null,
            "visibility": null,
            "width": "50%"
          }
        },
        "83a9f4300217494da2e864553fcc1e63": {
          "model_module": "@jupyter-widgets/controls",
          "model_name": "SliderStyleModel",
          "model_module_version": "1.5.0",
          "state": {
            "_model_module": "@jupyter-widgets/controls",
            "_model_module_version": "1.5.0",
            "_model_name": "SliderStyleModel",
            "_view_count": null,
            "_view_module": "@jupyter-widgets/base",
            "_view_module_version": "1.2.0",
            "_view_name": "StyleView",
            "description_width": "",
            "handle_color": null
          }
        },
        "b32596a15b294c559993db1bf094ec0e": {
          "model_module": "@jupyter-widgets/controls",
          "model_name": "FloatRangeSliderModel",
          "model_module_version": "1.5.0",
          "state": {
            "_dom_classes": [],
            "_model_module": "@jupyter-widgets/controls",
            "_model_module_version": "1.5.0",
            "_model_name": "FloatRangeSliderModel",
            "_view_count": null,
            "_view_module": "@jupyter-widgets/controls",
            "_view_module_version": "1.5.0",
            "_view_name": "FloatRangeSliderView",
            "continuous_update": false,
            "description": "Translon 5:",
            "description_tooltip": null,
            "disabled": false,
            "layout": "IPY_MODEL_97ce004ff125401aa7f63c426c9a1d25",
            "max": 2041,
            "min": 0,
            "orientation": "horizontal",
            "readout": true,
            "readout_format": ".1f",
            "step": 1,
            "style": "IPY_MODEL_b6fca140b6204b6e962ef42b84b37849",
            "value": [
              0,
              0
            ]
          }
        },
        "97ce004ff125401aa7f63c426c9a1d25": {
          "model_module": "@jupyter-widgets/base",
          "model_name": "LayoutModel",
          "model_module_version": "1.2.0",
          "state": {
            "_model_module": "@jupyter-widgets/base",
            "_model_module_version": "1.2.0",
            "_model_name": "LayoutModel",
            "_view_count": null,
            "_view_module": "@jupyter-widgets/base",
            "_view_module_version": "1.2.0",
            "_view_name": "LayoutView",
            "align_content": null,
            "align_items": null,
            "align_self": null,
            "border": null,
            "bottom": null,
            "display": null,
            "flex": null,
            "flex_flow": null,
            "grid_area": null,
            "grid_auto_columns": null,
            "grid_auto_flow": null,
            "grid_auto_rows": null,
            "grid_column": null,
            "grid_gap": null,
            "grid_row": null,
            "grid_template_areas": null,
            "grid_template_columns": null,
            "grid_template_rows": null,
            "height": "40px",
            "justify_content": null,
            "justify_items": null,
            "left": null,
            "margin": null,
            "max_height": null,
            "max_width": null,
            "min_height": null,
            "min_width": null,
            "object_fit": null,
            "object_position": null,
            "order": null,
            "overflow": null,
            "overflow_x": null,
            "overflow_y": null,
            "padding": null,
            "right": null,
            "top": null,
            "visibility": null,
            "width": "50%"
          }
        },
        "b6fca140b6204b6e962ef42b84b37849": {
          "model_module": "@jupyter-widgets/controls",
          "model_name": "SliderStyleModel",
          "model_module_version": "1.5.0",
          "state": {
            "_model_module": "@jupyter-widgets/controls",
            "_model_module_version": "1.5.0",
            "_model_name": "SliderStyleModel",
            "_view_count": null,
            "_view_module": "@jupyter-widgets/base",
            "_view_module_version": "1.2.0",
            "_view_name": "StyleView",
            "description_width": "",
            "handle_color": null
          }
        }
      }
    }
  },
  "cells": [
    {
      "cell_type": "markdown",
      "metadata": {
        "id": "view-in-github",
        "colab_type": "text"
      },
      "source": [
        "<a href=\"https://colab.research.google.com/github/JackCurragh/RDG-Viewer/blob/main/RDG_Viewer.ipynb\" target=\"_parent\"><img src=\"https://colab.research.google.com/assets/colab-badge.svg\" alt=\"Open In Colab\"/></a>"
      ]
    },
    {
      "cell_type": "markdown",
      "source": [
        "# RDG-Viewer\n",
        "\n",
        "Visualise Ribosome Decision Graphs in your browser using this colab notebook.\n",
        "\n",
        "This notebook utilises the plotting functionality of the `RDG` python [package](https://github.com/JackCurragh/RDG). This package is under active development with the goal of being a basic toolkit for carrying out Ribosome Decision Graph based analysis."
      ],
      "metadata": {
        "id": "qTXmCsDp5Gm8"
      }
    },
    {
      "cell_type": "code",
      "source": [
        "#@title 1. Setup\n",
        "\n",
        "#@markdown Install the required dependencies for Ribosome Decision Graph\n",
        "#@markdown visualisation\n",
        "\n",
        "#@markdown Run this step by clicking the <b>Play</b> button on the left\n",
        "\n",
        "!pip install -q sqlitedict matplotlib networkx;\n",
        "!pip install -q git+https://github.com/JackCurragh/RDG.git;\n",
        "\n",
        "from RDG import plot, RDG\n",
        "\n",
        "no_node_color_dict = {\n",
        "    \"edge_colors\": {\n",
        "        \"frame0\": \"#ffbb8d\",\n",
        "        \"frame1\": \"#ffeedd\",\n",
        "        \"frame2\": \"#ffd8be\"\n",
        "        },\n",
        "    \"node_colors\": {\n",
        "        \"startpoint\": \"#000000\",\n",
        "        \"endpoint\": \"#000000\",\n",
        "        \"translation_start\": \"#00b050\",\n",
        "        \"translation_stop\": \"#000000\",\n",
        "        \"frameshift\": \"#000000\",\n",
        "    },\n",
        "}"
      ],
      "metadata": {
        "colab": {
          "base_uri": "https://localhost:8080/"
        },
        "cellView": "form",
        "id": "9P9Gl9NcDQTr",
        "outputId": "f0f56ab4-8e78-4226-ad62-f955c7fd1d19"
      },
      "execution_count": null,
      "outputs": [
        {
          "output_type": "stream",
          "name": "stdout",
          "text": [
            "  Preparing metadata (setup.py) ... \u001b[?25l\u001b[?25hdone\n",
            "  Building wheel for sqlitedict (setup.py) ... \u001b[?25l\u001b[?25hdone\n",
            "  Preparing metadata (setup.py) ... \u001b[?25l\u001b[?25hdone\n",
            "  Building wheel for RDG (setup.py) ... \u001b[?25l\u001b[?25hdone\n"
          ]
        }
      ]
    },
    {
      "cell_type": "code",
      "source": [
        "#@title 2. Build & Visualise Ribosome Decsion Graph\n",
        "\n",
        "#@markdown Executing this cell using the <b>Play</b> button on the left will\n",
        "#@markdown render a RDG visualisation below.\n",
        "\n",
        "#@markdown Depending on the rules/assumptions made during graph construction we\n",
        "#@markdown will obtain greatly differnt graphs. Fill in the fields below to\n",
        "#@markdown set the 'rules' for this graph as well as other visualisation paramaters\n",
        "\n",
        "Locus_Name = \"ATF4\"  #@param {type:\"string\"}\n",
        "Transcript_length = 2041 #@param {type:\"integer\"}\n",
        "\n",
        "Allow_reinitiation = False #@param {type:\"boolean\"}\n",
        "\n",
        "#@markdown Input Translon start and stop coordinates in the form\n",
        "#@markdown \"Start Position, Stop Position\". Example  `100, 500`\n",
        "\n",
        "#@markdown Leave a field blank if you do not require all 5 Translons\n",
        "\n",
        "#@markdown <b>Note:</b> the quotation marks look after themselves\n",
        "Translon_1 = \"486, 649\"  #@param {type:\"string\"}\n",
        "Translon_2 = \"700, 891\"  #@param {type:\"string\"}\n",
        "Translon_3 = \"888, 1943\"  #@param {type:\"string\"}\n",
        "Translon_4 = \"\"  #@param {type:\"string\"}\n",
        "Translon_5 = \"\"  #@param {type:\"string\"}\n",
        "\n",
        "Translons = {\n",
        "    \"Translon 1\": Translon_1,\n",
        "    \"Translon 2\": Translon_2,\n",
        "    \"Translon 3\": Translon_3,\n",
        "    \"Translon 4\": Translon_4,\n",
        "    \"Translon 5\": Translon_5,\n",
        "    }\n",
        "\n",
        "g = RDG(name=Locus_Name, locus_stop=Transcript_length)\n",
        "\n",
        "\n",
        "for translon in Translons:\n",
        "  if Translons[translon] != \"\":\n",
        "    try:\n",
        "      start_stop = [int(i) for i in Translons[translon].split(\", \")]\n",
        "    except:\n",
        "      raise Exception(\"Translon 1 Start or Stop Codon position is invalid\")\n",
        "\n",
        "    g.add_open_reading_frame(\n",
        "        start_codon_position=int(start_stop[0]),\n",
        "        stop_codon_position=int(start_stop[1]),\n",
        "        reinitiation=Allow_reinitiation\n",
        "        )\n",
        "\n",
        "plot(g, color_dict=no_node_color_dict)"
      ],
      "metadata": {
        "colab": {
          "base_uri": "https://localhost:8080/",
          "height": 496
        },
        "cellView": "form",
        "id": "iBCEV_5vGRTI",
        "outputId": "5dcf5f6f-d970-4b0b-b964-e4bae2a30888"
      },
      "execution_count": null,
      "outputs": [
        {
          "output_type": "display_data",
          "data": {
            "text/plain": [
              "<Figure size 640x480 with 2 Axes>"
            ],
            "image/png": "[encoded data removed]"
          },
          "metadata": {}
        },
        {
          "output_type": "execute_result",
          "data": {
            "text/plain": [
              "(<Figure size 640x480 with 2 Axes>, <Axes: >, <Axes: >)"
            ]
          },
          "metadata": {},
          "execution_count": 3
        }
      ]
    },
    {
      "cell_type": "code",
      "source": [
        "#@title 2 v2. Build Visualise Ribosome Decsion Graph\n",
        "\n",
        "#@markdown Executing this cell using the <b>Play</b> button on the left will\n",
        "#@markdown render a RDG visualisation below.\n",
        "\n",
        "#@markdown Depending on the rules/assumptions made during graph construction we\n",
        "#@markdown will obtain greatly differnt graphs. Fill in the fields below to\n",
        "#@markdown set the 'rules' for this graph as well as other visualisation paramaters\n",
        "\n",
        "Locus_Name = \"ATF4\"  #@param {type:\"string\"}\n",
        "Transcript_length = 2041 #@param {type:\"integer\"}\n",
        "\n",
        "Allow_reinitiation = True #@param {type:\"boolean\"}\n",
        "\n",
        "\n",
        "import ipywidgets as widgets\n",
        "\n",
        "t1 = widgets.FloatRangeSlider(\n",
        "    value=[486, 649],\n",
        "    min=0,\n",
        "    max=Transcript_length,\n",
        "    step=1,\n",
        "    description='Translon 1:',\n",
        "    disabled=False,\n",
        "    continuous_update=False,\n",
        "    orientation='horizontal',\n",
        "    readout=True,\n",
        "    readout_format='.1f',\n",
        "    layout=widgets.Layout(width='50%', height='40px')\n",
        ")\n",
        "t2 = widgets.FloatRangeSlider(\n",
        "    value=[700, 891],\n",
        "    min=0,\n",
        "    max=Transcript_length,\n",
        "    step=1,\n",
        "    description='Translon 2:',\n",
        "    disabled=False,\n",
        "    continuous_update=False,\n",
        "    orientation='horizontal',\n",
        "    readout=True,\n",
        "    readout_format='.1f',\n",
        "    layout=widgets.Layout(width='50%', height='40px')\n",
        ")\n",
        "t3 = widgets.FloatRangeSlider(\n",
        "    value=[888, 1943],\n",
        "    min=0,\n",
        "    max=Transcript_length,\n",
        "    step=1,\n",
        "    description='Translon 3:',\n",
        "    disabled=False,\n",
        "    continuous_update=False,\n",
        "    orientation='horizontal',\n",
        "    readout=True,\n",
        "    readout_format='.1f',\n",
        "    layout=widgets.Layout(width='50%', height='40px')\n",
        ")\n",
        "t4 = widgets.FloatRangeSlider(\n",
        "    value=[0, 0],\n",
        "    min=0,\n",
        "    max=Transcript_length,\n",
        "    step=1,\n",
        "    description='Translon 4:',\n",
        "    disabled=False,\n",
        "    continuous_update=False,\n",
        "    orientation='horizontal',\n",
        "    readout=True,\n",
        "    readout_format='.1f',\n",
        "    layout=widgets.Layout(width='50%', height='40px')\n",
        ")\n",
        "t5 = widgets.FloatRangeSlider(\n",
        "    value=[0, 0],\n",
        "    min=0,\n",
        "    max=Transcript_length,\n",
        "    step=1,\n",
        "    description='Translon 5:',\n",
        "    disabled=False,\n",
        "    continuous_update=False,\n",
        "    orientation='horizontal',\n",
        "    readout=True,\n",
        "    readout_format='.1f',\n",
        "    layout=widgets.Layout(width='50%', height='40px')\n",
        ")\n",
        "display(t1, t2, t3, t4, t5)\n"
      ],
      "metadata": {
        "colab": {
          "base_uri": "https://localhost:8080/",
          "height": 229,
          "referenced_widgets": [
            "8229849e16d046d280fc9f2b035cdd3a",
            "6b1ee18efda74a1eada62c270071406e",
            "265e1cdcaebf4bca95f34d8ca645acf1",
            "17ca9a8e9f1349f7a063d0193f581fda",
            "3e4e2892296243a494dc7d138c244d01",
            "542192fc66d74b51b5ef0b521b8e9e65",
            "7d0f97d4e2ca4d4996b64095de7b4d34",
            "cf50198204f34e558cbbd386489efce1",
            "7b82bf9ce1e0436b849914b4a74aaeb5",
            "8813ded6977e4494892e18939f3a3f6d",
            "fcea0dfbc5eb4dffa5511b1ce1c8ea48",
            "83a9f4300217494da2e864553fcc1e63",
            "b32596a15b294c559993db1bf094ec0e",
            "97ce004ff125401aa7f63c426c9a1d25",
            "b6fca140b6204b6e962ef42b84b37849"
          ]
        },
        "cellView": "form",
        "id": "KM-E1hUzAJmM",
        "outputId": "d9d9c688-1093-4a1e-c32f-968ff8b2b79e"
      },
      "execution_count": null,
      "outputs": [
        {
          "output_type": "display_data",
          "data": {
            "text/plain": [
              "FloatRangeSlider(value=(486.0, 649.0), continuous_update=False, description='Translon 1:', layout=Layout(heigh…"
            ],
            "application/vnd.jupyter.widget-view+json": {
              "version_major": 2,
              "version_minor": 0,
              "model_id": "8229849e16d046d280fc9f2b035cdd3a"
            }
          },
          "metadata": {}
        },
        {
          "output_type": "display_data",
          "data": {
            "text/plain": [
              "FloatRangeSlider(value=(700.0, 891.0), continuous_update=False, description='Translon 2:', layout=Layout(heigh…"
            ],
            "application/vnd.jupyter.widget-view+json": {
              "version_major": 2,
              "version_minor": 0,
              "model_id": "17ca9a8e9f1349f7a063d0193f581fda"
            }
          },
          "metadata": {}
        },
        {
          "output_type": "display_data",
          "data": {
            "text/plain": [
              "FloatRangeSlider(value=(888.0, 1943.0), continuous_update=False, description='Translon 3:', layout=Layout(heig…"
            ],
            "application/vnd.jupyter.widget-view+json": {
              "version_major": 2,
              "version_minor": 0,
              "model_id": "7d0f97d4e2ca4d4996b64095de7b4d34"
            }
          },
          "metadata": {}
        },
        {
          "output_type": "display_data",
          "data": {
            "text/plain": [
              "FloatRangeSlider(value=(0.0, 0.0), continuous_update=False, description='Translon 4:', layout=Layout(height='4…"
            ],
            "application/vnd.jupyter.widget-view+json": {
              "version_major": 2,
              "version_minor": 0,
              "model_id": "8813ded6977e4494892e18939f3a3f6d"
            }
          },
          "metadata": {}
        },
        {
          "output_type": "display_data",
          "data": {
            "text/plain": [
              "FloatRangeSlider(value=(0.0, 0.0), continuous_update=False, description='Translon 5:', layout=Layout(height='4…"
            ],
            "application/vnd.jupyter.widget-view+json": {
              "version_major": 2,
              "version_minor": 0,
              "model_id": "b32596a15b294c559993db1bf094ec0e"
            }
          },
          "metadata": {}
        }
      ]
    },
    {
      "cell_type": "code",
      "source": [
        "#@title Once you have set your Translon ranges it <b>Play</b> to render the graph!\n",
        "\n",
        "Translons = {\n",
        "    \"Translon 1\": t1.value,\n",
        "    \"Translon 2\": t2.value,\n",
        "    \"Translon 3\": t3.value,\n",
        "    \"Translon 4\": t4.value,\n",
        "    \"Translon 5\": t5.value,\n",
        "    }\n",
        "\n",
        "g = RDG(name=Locus_Name, locus_stop=Transcript_length)\n",
        "\n",
        "for translon in Translons:\n",
        "  if Translons[translon][0] != Translons[translon][1]:\n",
        "    g.add_open_reading_frame(\n",
        "        start_codon_position=int(Translons[translon][0]),\n",
        "        stop_codon_position=int(Translons[translon][1]),\n",
        "        reinitiation=Allow_reinitiation\n",
        "        )\n",
        "\n",
        "plot(g, color_dict=no_node_color_dict)"
      ],
      "metadata": {
        "colab": {
          "base_uri": "https://localhost:8080/",
          "height": 496
        },
        "cellView": "form",
        "id": "Y-BHA585NA51",
        "outputId": "2b85d162-8c9f-4569-f48e-d8e93619ed17"
      },
      "execution_count": null,
      "outputs": [
        {
          "output_type": "display_data",
          "data": {
            "text/plain": [
              "<Figure size 640x480 with 2 Axes>"
            ],
            "image/png": "[encoded data removed]"
          },
          "metadata": {}
        },
        {
          "output_type": "execute_result",
          "data": {
            "text/plain": [
              "(<Figure size 640x480 with 2 Axes>, <Axes: >, <Axes: >)"
            ]
          },
          "metadata": {},
          "execution_count": 5
        }
      ]
    },
    {
      "cell_type": "code",
      "source": [
        "#@title 3. Build Visualise Ribosome Decsion Graph - From Sequence\n",
        "\n",
        "#@markdown Executing this cell using the <b>Play</b> button on the left will\n",
        "#@markdown render a RDG visualisation below.\n",
        "\n",
        "#@markdown Provide transcript sequence and specified graph construction\n",
        "#@markdown paramaters below:\n",
        "\n",
        "from RDG.sequence_to_RDG import extract_orfs\n",
        "\n",
        "Locus_Name = \"ATF4\"  #@param {type:\"string\"}\n",
        "\n",
        "#@markdown Transcript Sequence (No FASTA Header):\n",
        "sequence = \"ACTGCGCCCTCGGTCCGCCCCAGATCATCCGCCAGCTGGAGAACAACATCGAGAAGACAATGATCAAGATCATCACCAGCCAGAACATCCACCTGCTGTATTTGGACCTGCTGGATTATCTGAAGACAGTGCTGGCAGGATACCCCATTGAGCTGGACAAGCTGCAGAACCTCGTGGTCAACTACTGCTCAGAGCTGTCGGATATGAAGATCATGTCCCAAGATGCCATGATGATCACGGATGAGGTCAAGTGAAGATAGTGATCCGGGGAGACAGGAACACGGGCAAGACAGCGCTGTGGCACCGCCTGCAGGGCCGGCCGTTCGTGGAGGAGTACATCCCCACACAGGAGATCCAGGTCACCAGCATCCACTGGAGCTACAAGACCACGGATGACATCGTGAAGGTTGAAGTCTGGGATGTAGTAGACAAAGGAAAATGCAAAAAGCGAGGCGACGGCTTAAAGATGGAGAACGACCCCCAGGAGGCGGAGTCTGAAATGGCCCTGGATGCTGAGTTCCTGGACGTGTACAAGAACTGCAACGGGGTGGTCATGATGTT\" #@param {type:\"string\"}\n",
        "\n",
        "#@markdown Start Codons to Consider:\n",
        "start_codons = \"ATG,CTG,TTG\" #@param {type:\"string\"}\n",
        "\n",
        "#@markdown Number of Start Codons at which the Ribosome will initiate:\n",
        "Number_of_Starts = 8 #@param {type:\"integer\"}\n",
        "\n",
        "#@markdown Max number of Translons on reinitiation path\n",
        "reinitiation_limit = 3 #@param {type:\"integer\"}\n",
        "Allow_reinitiation = True #@param {type:\"boolean\"}\n",
        "\n",
        "orfs = extract_orfs(sequence, starts=start_codons, min_length=0)\n",
        "dg = RDG(name=Locus_Name, locus_stop=len(sequence))\n",
        "\n",
        "for orf_start, orf_stop in sorted(orfs)[:Number_of_Starts]:\n",
        "    dg.add_open_reading_frame(\n",
        "        orf_start,\n",
        "        orf_stop,\n",
        "        reinitiation=Allow_reinitiation,\n",
        "        upstream_limit=reinitiation_limit,\n",
        "    )\n",
        "\n",
        "plot(dg, color_dict=no_node_color_dict)"
      ],
      "metadata": {
        "colab": {
          "base_uri": "https://localhost:8080/",
          "height": 496
        },
        "id": "ZoV1kKcnRblv",
        "outputId": "5a2bc9f4-4c8e-4e0a-e879-ea8bed12c534"
      },
      "execution_count": null,
      "outputs": [
        {
          "output_type": "display_data",
          "data": {
            "text/plain": [
              "<Figure size 640x480 with 2 Axes>"
            ],
            "image/png": "[encoded data removed]"
          },
          "metadata": {}
        },
        {
          "output_type": "execute_result",
          "data": {
            "text/plain": [
              "(<Figure size 640x480 with 2 Axes>, <Axes: >, <Axes: >)"
            ]
          },
          "metadata": {},
          "execution_count": 6
        }
      ]
    }
  ]
}