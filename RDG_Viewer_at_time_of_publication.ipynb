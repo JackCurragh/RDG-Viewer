{
  "nbformat": 4,
  "nbformat_minor": 0,
  "metadata": {
    "colab": {
      "provenance": [],
      "authorship_tag": "ABX9TyPf6EjWO5OnrReTv4yp9MX/",
      "include_colab_link": true
    },
    "kernelspec": {
      "name": "python3",
      "display_name": "Python 3"
    },
    "language_info": {
      "name": "python"
    },
    "widgets": {
      "application/vnd.jupyter.widget-state+json": {
        "4b43798b007245b4a0c12b2918a40b4f": {
          "model_module": "@jupyter-widgets/controls",
          "model_name": "FloatRangeSliderModel",
          "model_module_version": "1.5.0",
          "state": {
            "_dom_classes": [],
            "_model_module": "@jupyter-widgets/controls",
            "_model_module_version": "1.5.0",
            "_model_name": "FloatRangeSliderModel",
            "_view_count": null,
            "_view_module": "@jupyter-widgets/controls",
            "_view_module_version": "1.5.0",
            "_view_name": "FloatRangeSliderView",
            "continuous_update": false,
            "description": "Translon 1:",
            "description_tooltip": null,
            "disabled": false,
            "layout": "IPY_MODEL_0f6728fba0e146699befdce8013c361b",
            "max": 2000,
            "min": 0,
            "orientation": "horizontal",
            "readout": true,
            "readout_format": ".1f",
            "step": 1,
            "style": "IPY_MODEL_cc465006683641afaf29f2a42544c3a2",
            "value": [
              486,
              649
            ]
          }
        },
        "0f6728fba0e146699befdce8013c361b": {
          "model_module": "@jupyter-widgets/base",
          "model_name": "LayoutModel",
          "model_module_version": "1.2.0",
          "state": {
            "_model_module": "@jupyter-widgets/base",
            "_model_module_version": "1.2.0",
            "_model_name": "LayoutModel",
            "_view_count": null,
            "_view_module": "@jupyter-widgets/base",
            "_view_module_version": "1.2.0",
            "_view_name": "LayoutView",
            "align_content": null,
            "align_items": null,
            "align_self": null,
            "border": null,
            "bottom": null,
            "display": null,
            "flex": null,
            "flex_flow": null,
            "grid_area": null,
            "grid_auto_columns": null,
            "grid_auto_flow": null,
            "grid_auto_rows": null,
            "grid_column": null,
            "grid_gap": null,
            "grid_row": null,
            "grid_template_areas": null,
            "grid_template_columns": null,
            "grid_template_rows": null,
            "height": "40px",
            "justify_content": null,
            "justify_items": null,
            "left": null,
            "margin": null,
            "max_height": null,
            "max_width": null,
            "min_height": null,
            "min_width": null,
            "object_fit": null,
            "object_position": null,
            "order": null,
            "overflow": null,
            "overflow_x": null,
            "overflow_y": null,
            "padding": null,
            "right": null,
            "top": null,
            "visibility": null,
            "width": "50%"
          }
        },
        "cc465006683641afaf29f2a42544c3a2": {
          "model_module": "@jupyter-widgets/controls",
          "model_name": "SliderStyleModel",
          "model_module_version": "1.5.0",
          "state": {
            "_model_module": "@jupyter-widgets/controls",
            "_model_module_version": "1.5.0",
            "_model_name": "SliderStyleModel",
            "_view_count": null,
            "_view_module": "@jupyter-widgets/base",
            "_view_module_version": "1.2.0",
            "_view_name": "StyleView",
            "description_width": "",
            "handle_color": null
          }
        },
        "afa8816a132f46b4b34b6e16dfa1a36a": {
          "model_module": "@jupyter-widgets/controls",
          "model_name": "FloatRangeSliderModel",
          "model_module_version": "1.5.0",
          "state": {
            "_dom_classes": [],
            "_model_module": "@jupyter-widgets/controls",
            "_model_module_version": "1.5.0",
            "_model_name": "FloatRangeSliderModel",
            "_view_count": null,
            "_view_module": "@jupyter-widgets/controls",
            "_view_module_version": "1.5.0",
            "_view_name": "FloatRangeSliderView",
            "continuous_update": false,
            "description": "Translon 2:",
            "description_tooltip": null,
            "disabled": false,
            "layout": "IPY_MODEL_6047bb79e9d44afbbc8f15eebb285eb9",
            "max": 2000,
            "min": 0,
            "orientation": "horizontal",
            "readout": true,
            "readout_format": ".1f",
            "step": 1,
            "style": "IPY_MODEL_9d75d468b40f4794a627e301b674a18d",
            "value": [
              700,
              891
            ]
          }
        },
        "6047bb79e9d44afbbc8f15eebb285eb9": {
          "model_module": "@jupyter-widgets/base",
          "model_name": "LayoutModel",
          "model_module_version": "1.2.0",
          "state": {
            "_model_module": "@jupyter-widgets/base",
            "_model_module_version": "1.2.0",
            "_model_name": "LayoutModel",
            "_view_count": null,
            "_view_module": "@jupyter-widgets/base",
            "_view_module_version": "1.2.0",
            "_view_name": "LayoutView",
            "align_content": null,
            "align_items": null,
            "align_self": null,
            "border": null,
            "bottom": null,
            "display": null,
            "flex": null,
            "flex_flow": null,
            "grid_area": null,
            "grid_auto_columns": null,
            "grid_auto_flow": null,
            "grid_auto_rows": null,
            "grid_column": null,
            "grid_gap": null,
            "grid_row": null,
            "grid_template_areas": null,
            "grid_template_columns": null,
            "grid_template_rows": null,
            "height": "40px",
            "justify_content": null,
            "justify_items": null,
            "left": null,
            "margin": null,
            "max_height": null,
            "max_width": null,
            "min_height": null,
            "min_width": null,
            "object_fit": null,
            "object_position": null,
            "order": null,
            "overflow": null,
            "overflow_x": null,
            "overflow_y": null,
            "padding": null,
            "right": null,
            "top": null,
            "visibility": null,
            "width": "50%"
          }
        },
        "9d75d468b40f4794a627e301b674a18d": {
          "model_module": "@jupyter-widgets/controls",
          "model_name": "SliderStyleModel",
          "model_module_version": "1.5.0",
          "state": {
            "_model_module": "@jupyter-widgets/controls",
            "_model_module_version": "1.5.0",
            "_model_name": "SliderStyleModel",
            "_view_count": null,
            "_view_module": "@jupyter-widgets/base",
            "_view_module_version": "1.2.0",
            "_view_name": "StyleView",
            "description_width": "",
            "handle_color": null
          }
        },
        "1eaa8ca1b8004b418d64ea23464e8802": {
          "model_module": "@jupyter-widgets/controls",
          "model_name": "FloatRangeSliderModel",
          "model_module_version": "1.5.0",
          "state": {
            "_dom_classes": [],
            "_model_module": "@jupyter-widgets/controls",
            "_model_module_version": "1.5.0",
            "_model_name": "FloatRangeSliderModel",
            "_view_count": null,
            "_view_module": "@jupyter-widgets/controls",
            "_view_module_version": "1.5.0",
            "_view_name": "FloatRangeSliderView",
            "continuous_update": false,
            "description": "Translon 3:",
            "description_tooltip": null,
            "disabled": false,
            "layout": "IPY_MODEL_349ba566fba041b584a9bf72cc381e27",
            "max": 2000,
            "min": 0,
            "orientation": "horizontal",
            "readout": true,
            "readout_format": ".1f",
            "step": 1,
            "style": "IPY_MODEL_ccb94a8a6d794ba08a607b66d155dc98",
            "value": [
              888,
              1943
            ]
          }
        },
        "349ba566fba041b584a9bf72cc381e27": {
          "model_module": "@jupyter-widgets/base",
          "model_name": "LayoutModel",
          "model_module_version": "1.2.0",
          "state": {
            "_model_module": "@jupyter-widgets/base",
            "_model_module_version": "1.2.0",
            "_model_name": "LayoutModel",
            "_view_count": null,
            "_view_module": "@jupyter-widgets/base",
            "_view_module_version": "1.2.0",
            "_view_name": "LayoutView",
            "align_content": null,
            "align_items": null,
            "align_self": null,
            "border": null,
            "bottom": null,
            "display": null,
            "flex": null,
            "flex_flow": null,
            "grid_area": null,
            "grid_auto_columns": null,
            "grid_auto_flow": null,
            "grid_auto_rows": null,
            "grid_column": null,
            "grid_gap": null,
            "grid_row": null,
            "grid_template_areas": null,
            "grid_template_columns": null,
            "grid_template_rows": null,
            "height": "40px",
            "justify_content": null,
            "justify_items": null,
            "left": null,
            "margin": null,
            "max_height": null,
            "max_width": null,
            "min_height": null,
            "min_width": null,
            "object_fit": null,
            "object_position": null,
            "order": null,
            "overflow": null,
            "overflow_x": null,
            "overflow_y": null,
            "padding": null,
            "right": null,
            "top": null,
            "visibility": null,
            "width": "50%"
          }
        },
        "ccb94a8a6d794ba08a607b66d155dc98": {
          "model_module": "@jupyter-widgets/controls",
          "model_name": "SliderStyleModel",
          "model_module_version": "1.5.0",
          "state": {
            "_model_module": "@jupyter-widgets/controls",
            "_model_module_version": "1.5.0",
            "_model_name": "SliderStyleModel",
            "_view_count": null,
            "_view_module": "@jupyter-widgets/base",
            "_view_module_version": "1.2.0",
            "_view_name": "StyleView",
            "description_width": "",
            "handle_color": null
          }
        },
        "9cbab6db85694f83be3b2fbd8ff85fcf": {
          "model_module": "@jupyter-widgets/controls",
          "model_name": "FloatRangeSliderModel",
          "model_module_version": "1.5.0",
          "state": {
            "_dom_classes": [],
            "_model_module": "@jupyter-widgets/controls",
            "_model_module_version": "1.5.0",
            "_model_name": "FloatRangeSliderModel",
            "_view_count": null,
            "_view_module": "@jupyter-widgets/controls",
            "_view_module_version": "1.5.0",
            "_view_name": "FloatRangeSliderView",
            "continuous_update": false,
            "description": "Translon 4:",
            "description_tooltip": null,
            "disabled": false,
            "layout": "IPY_MODEL_d5933d2334a9413a854eb51a3b08768b",
            "max": 2000,
            "min": 0,
            "orientation": "horizontal",
            "readout": true,
            "readout_format": ".1f",
            "step": 1,
            "style": "IPY_MODEL_d46e079ab3cc4c799e84eddfa2657020",
            "value": [
              0,
              0
            ]
          }
        },
        "d5933d2334a9413a854eb51a3b08768b": {
          "model_module": "@jupyter-widgets/base",
          "model_name": "LayoutModel",
          "model_module_version": "1.2.0",
          "state": {
            "_model_module": "@jupyter-widgets/base",
            "_model_module_version": "1.2.0",
            "_model_name": "LayoutModel",
            "_view_count": null,
            "_view_module": "@jupyter-widgets/base",
            "_view_module_version": "1.2.0",
            "_view_name": "LayoutView",
            "align_content": null,
            "align_items": null,
            "align_self": null,
            "border": null,
            "bottom": null,
            "display": null,
            "flex": null,
            "flex_flow": null,
            "grid_area": null,
            "grid_auto_columns": null,
            "grid_auto_flow": null,
            "grid_auto_rows": null,
            "grid_column": null,
            "grid_gap": null,
            "grid_row": null,
            "grid_template_areas": null,
            "grid_template_columns": null,
            "grid_template_rows": null,
            "height": "40px",
            "justify_content": null,
            "justify_items": null,
            "left": null,
            "margin": null,
            "max_height": null,
            "max_width": null,
            "min_height": null,
            "min_width": null,
            "object_fit": null,
            "object_position": null,
            "order": null,
            "overflow": null,
            "overflow_x": null,
            "overflow_y": null,
            "padding": null,
            "right": null,
            "top": null,
            "visibility": null,
            "width": "50%"
          }
        },
        "d46e079ab3cc4c799e84eddfa2657020": {
          "model_module": "@jupyter-widgets/controls",
          "model_name": "SliderStyleModel",
          "model_module_version": "1.5.0",
          "state": {
            "_model_module": "@jupyter-widgets/controls",
            "_model_module_version": "1.5.0",
            "_model_name": "SliderStyleModel",
            "_view_count": null,
            "_view_module": "@jupyter-widgets/base",
            "_view_module_version": "1.2.0",
            "_view_name": "StyleView",
            "description_width": "",
            "handle_color": null
          }
        },
        "cdf58d0aeff3424aab24fb69f3ff5ce0": {
          "model_module": "@jupyter-widgets/controls",
          "model_name": "FloatRangeSliderModel",
          "model_module_version": "1.5.0",
          "state": {
            "_dom_classes": [],
            "_model_module": "@jupyter-widgets/controls",
            "_model_module_version": "1.5.0",
            "_model_name": "FloatRangeSliderModel",
            "_view_count": null,
            "_view_module": "@jupyter-widgets/controls",
            "_view_module_version": "1.5.0",
            "_view_name": "FloatRangeSliderView",
            "continuous_update": false,
            "description": "Translon 5:",
            "description_tooltip": null,
            "disabled": false,
            "layout": "IPY_MODEL_06e61e1a5ec9475bbc7804e5a285571b",
            "max": 2000,
            "min": 0,
            "orientation": "horizontal",
            "readout": true,
            "readout_format": ".1f",
            "step": 1,
            "style": "IPY_MODEL_99cc0b5e71e04b7c8c65930b9c257d7d",
            "value": [
              0,
              0
            ]
          }
        },
        "06e61e1a5ec9475bbc7804e5a285571b": {
          "model_module": "@jupyter-widgets/base",
          "model_name": "LayoutModel",
          "model_module_version": "1.2.0",
          "state": {
            "_model_module": "@jupyter-widgets/base",
            "_model_module_version": "1.2.0",
            "_model_name": "LayoutModel",
            "_view_count": null,
            "_view_module": "@jupyter-widgets/base",
            "_view_module_version": "1.2.0",
            "_view_name": "LayoutView",
            "align_content": null,
            "align_items": null,
            "align_self": null,
            "border": null,
            "bottom": null,
            "display": null,
            "flex": null,
            "flex_flow": null,
            "grid_area": null,
            "grid_auto_columns": null,
            "grid_auto_flow": null,
            "grid_auto_rows": null,
            "grid_column": null,
            "grid_gap": null,
            "grid_row": null,
            "grid_template_areas": null,
            "grid_template_columns": null,
            "grid_template_rows": null,
            "height": "40px",
            "justify_content": null,
            "justify_items": null,
            "left": null,
            "margin": null,
            "max_height": null,
            "max_width": null,
            "min_height": null,
            "min_width": null,
            "object_fit": null,
            "object_position": null,
            "order": null,
            "overflow": null,
            "overflow_x": null,
            "overflow_y": null,
            "padding": null,
            "right": null,
            "top": null,
            "visibility": null,
            "width": "50%"
          }
        },
        "99cc0b5e71e04b7c8c65930b9c257d7d": {
          "model_module": "@jupyter-widgets/controls",
          "model_name": "SliderStyleModel",
          "model_module_version": "1.5.0",
          "state": {
            "_model_module": "@jupyter-widgets/controls",
            "_model_module_version": "1.5.0",
            "_model_name": "SliderStyleModel",
            "_view_count": null,
            "_view_module": "@jupyter-widgets/base",
            "_view_module_version": "1.2.0",
            "_view_name": "StyleView",
            "description_width": "",
            "handle_color": null
          }
        }
      }
    }
  },
  "cells": [
    {
      "cell_type": "markdown",
      "metadata": {
        "id": "view-in-github",
        "colab_type": "text"
      },
      "source": [
        "<a href=\"https://colab.research.google.com/github/JackCurragh/RDG-Viewer/blob/main/RDG_Viewer_at_time_of_publication.ipynb\" target=\"_parent\"><img src=\"https://colab.research.google.com/assets/colab-badge.svg\" alt=\"Open In Colab\"/></a>"
      ]
    },
    {
      "cell_type": "markdown",
      "source": [
        "# RDG-Viewer\n",
        "\n",
        "Visualise Ribosome Decision Graphs in your browser using this colab notebook.\n",
        "\n",
        "This notebook utilises the plotting functionality of the `RDG` python [package](https://github.com/JackCurragh/RDG). This package is under active development with the goal of being a basic toolkit for carrying out Ribosome Decision Graph based analysis."
      ],
      "metadata": {
        "id": "qTXmCsDp5Gm8"
      }
    },
    {
      "cell_type": "code",
      "source": [
        "#@title 1. Setup\n",
        "\n",
        "#@markdown Install the required dependencies for Ribosome Decision Graph\n",
        "#@markdown visualisation\n",
        "\n",
        "#@markdown Run this step by clicking the <b>Play</b> button on the left\n",
        "!pip uninstall RDG -y\n",
        "\n",
        "!pip install -q sqlitedict matplotlib networkx gget gff2bed;\n",
        "!pip install git+https://github.com/JackCurragh/RDG.git;\n",
        "\n",
        "from RDG import plot, RDG\n",
        "\n",
        "no_node_color_dict = {\n",
        "    \"edge_colors\": {\n",
        "        0: \"#ffbb8d\",\n",
        "        1: \"#ffeedd\",\n",
        "        2: \"#ffd8be\"\n",
        "        },\n",
        "    \"node_colors\": {\n",
        "        \"startpoint\": \"#000000\",\n",
        "        \"endpoint\": \"#000000\",\n",
        "        \"translation_start\": \"#00b050\",\n",
        "        \"translation_stop\": \"#000000\",\n",
        "        \"frameshift\": \"#000000\",\n",
        "    },\n",
        "}"
      ],
      "metadata": {
        "colab": {
          "base_uri": "https://localhost:8080/"
        },
        "id": "9P9Gl9NcDQTr",
        "outputId": "f7e209a3-f7b6-499f-9af5-3ec3598d5d9f",
        "cellView": "form"
      },
      "execution_count": 1,
      "outputs": [
        {
          "output_type": "stream",
          "name": "stdout",
          "text": [
            "Found existing installation: RDG 0.1.6\n",
            "Uninstalling RDG-0.1.6:\n",
            "  Successfully uninstalled RDG-0.1.6\n",
            "Collecting git+https://github.com/JackCurragh/RDG.git\n",
            "  Cloning https://github.com/JackCurragh/RDG.git to /tmp/pip-req-build-gljkatgx\n",
            "  Running command git clone --filter=blob:none --quiet https://github.com/JackCurragh/RDG.git /tmp/pip-req-build-gljkatgx\n",
            "  Resolved https://github.com/JackCurragh/RDG.git to commit 0752bb97a2033334026356da2c7a8f301d0ed0fa\n",
            "  Preparing metadata (setup.py) ... \u001b[?25l\u001b[?25hdone\n",
            "Requirement already satisfied: click==8.1.7 in /usr/local/lib/python3.11/dist-packages (from RDG==0.1.6) (8.1.7)\n",
            "Requirement already satisfied: contourpy==1.2.0 in /usr/local/lib/python3.11/dist-packages (from RDG==0.1.6) (1.2.0)\n",
            "Requirement already satisfied: cycler==0.12.1 in /usr/local/lib/python3.11/dist-packages (from RDG==0.1.6) (0.12.1)\n",
            "Requirement already satisfied: fonttools==4.47.2 in /usr/local/lib/python3.11/dist-packages (from RDG==0.1.6) (4.47.2)\n",
            "Requirement already satisfied: iniconfig==2.0.0 in /usr/local/lib/python3.11/dist-packages (from RDG==0.1.6) (2.0.0)\n",
            "Requirement already satisfied: kiwisolver==1.4.5 in /usr/local/lib/python3.11/dist-packages (from RDG==0.1.6) (1.4.5)\n",
            "Requirement already satisfied: markdown-it-py==3.0.0 in /usr/local/lib/python3.11/dist-packages (from RDG==0.1.6) (3.0.0)\n",
            "Requirement already satisfied: matplotlib==3.8.2 in /usr/local/lib/python3.11/dist-packages (from RDG==0.1.6) (3.8.2)\n",
            "Requirement already satisfied: mdurl==0.1.2 in /usr/local/lib/python3.11/dist-packages (from RDG==0.1.6) (0.1.2)\n",
            "Requirement already satisfied: networkx==3.2.1 in /usr/local/lib/python3.11/dist-packages (from RDG==0.1.6) (3.2.1)\n",
            "Requirement already satisfied: numpy==1.26.3 in /usr/local/lib/python3.11/dist-packages (from RDG==0.1.6) (1.26.3)\n",
            "Requirement already satisfied: packaging==23.2 in /usr/local/lib/python3.11/dist-packages (from RDG==0.1.6) (23.2)\n",
            "Requirement already satisfied: pillow==10.2.0 in /usr/local/lib/python3.11/dist-packages (from RDG==0.1.6) (10.2.0)\n",
            "Requirement already satisfied: pluggy==1.4.0 in /usr/local/lib/python3.11/dist-packages (from RDG==0.1.6) (1.4.0)\n",
            "Requirement already satisfied: Pygments==2.17.2 in /usr/local/lib/python3.11/dist-packages (from RDG==0.1.6) (2.17.2)\n",
            "Requirement already satisfied: pyparsing==3.1.1 in /usr/local/lib/python3.11/dist-packages (from RDG==0.1.6) (3.1.1)\n",
            "Requirement already satisfied: pytest==8.0.0 in /usr/local/lib/python3.11/dist-packages (from RDG==0.1.6) (8.0.0)\n",
            "Requirement already satisfied: python-dateutil==2.8.2 in /usr/local/lib/python3.11/dist-packages (from RDG==0.1.6) (2.8.2)\n",
            "Requirement already satisfied: rich==13.7.0 in /usr/local/lib/python3.11/dist-packages (from RDG==0.1.6) (13.7.0)\n",
            "Requirement already satisfied: setuptools==68.2.2 in /usr/local/lib/python3.11/dist-packages (from RDG==0.1.6) (68.2.2)\n",
            "Requirement already satisfied: six==1.16.0 in /usr/local/lib/python3.11/dist-packages (from RDG==0.1.6) (1.16.0)\n",
            "Requirement already satisfied: sqlitedict==2.1.0 in /usr/local/lib/python3.11/dist-packages (from RDG==0.1.6) (2.1.0)\n",
            "Requirement already satisfied: wheel==0.41.2 in /usr/local/lib/python3.11/dist-packages (from RDG==0.1.6) (0.41.2)\n",
            "Requirement already satisfied: pyahocorasick==2.1.0 in /usr/local/lib/python3.11/dist-packages (from RDG==0.1.6) (2.1.0)\n",
            "Building wheels for collected packages: RDG\n",
            "  Building wheel for RDG (setup.py) ... \u001b[?25l\u001b[?25hdone\n",
            "  Created wheel for RDG: filename=RDG-0.1.6-py3-none-any.whl size=26647 sha256=a30e866f6beb9e968f99dd2deed162e71513a898c4623f66862c5f88cf99837a\n",
            "  Stored in directory: /tmp/pip-ephem-wheel-cache-0_jgudw1/wheels/cf/bc/5c/dd2a0d1745436d8b3dec044357dac4f077a6a8bf18094ca537\n",
            "Successfully built RDG\n",
            "Installing collected packages: RDG\n",
            "Successfully installed RDG-0.1.6\n"
          ]
        }
      ]
    },
    {
      "cell_type": "code",
      "source": [
        "#@title 2. Build & Visualise Ribosome Decision Graph\n",
        "\n",
        "#@markdown Executing this cell using the <b>Play</b> button on the left will\n",
        "#@markdown render a RDG visualisation below.\n",
        "\n",
        "#@markdown Depending on the rules/assumptions made during graph construction we\n",
        "#@markdown will obtain greatly differnt graphs. Fill in the fields below to\n",
        "#@markdown set the 'rules' for this graph as well as other visualisation paramaters\n",
        "\n",
        "Locus_Name = \"PANX1\"  #@param {type:\"string\"}\n",
        "Transcript_length = 2840 #@param {type:\"integer\"}\n",
        "\n",
        "Allow_reinitiation = True #@param {type:\"boolean\"}\n",
        "\n",
        "#@markdown Input Translon start and stop coordinates in the form\n",
        "#@markdown \"Start Position, Stop Position\". Example  `100, 500`\n",
        "\n",
        "#@markdown Leave a field blank if you do not require all 5 Translons\n",
        "\n",
        "#@markdown <b>Note:</b> the quotation marks look after themselves\n",
        "Translon_1 = \"18,318\"  #@param {type:\"string\"}\n",
        "Translon_2 = \"43,790\"  #@param {type:\"string\"}\n",
        "Translon_3 = \"124,790\"  #@param {type:\"string\"}\n",
        "Translon_4 = \"179,401\"  #@param {type:\"string\"}\n",
        "Translon_5 = \"201,318\"  #@param {type:\"string\"}\n",
        "Translon_6 = \"211,790\"  #@param {type:\"string\"}\n",
        "Translon_7 = \"218,401\"  #@param {type:\"string\"}\n",
        "Translon_8 = \"309, 318\"  #@param {type:\"string\"}\n",
        "Translon_9 = \"317,401\"  #@param {type:\"string\"}\n",
        "Translon_10 = \"347,401\"  #@param {type:\"string\"}\n",
        "Translon_11 = \"473,1751\"  #@param {type:\"string\"}\n",
        "\n",
        "\n",
        "Translons = {\n",
        "    \"Translon 1\": Translon_1,\n",
        "    \"Translon 2\": Translon_2,\n",
        "    \"Translon 3\": Translon_3,\n",
        "    \"Translon 4\": Translon_4,\n",
        "    \"Translon 5\": Translon_5,\n",
        "    \"Translon 6\": Translon_6,\n",
        "    \"Translon 7\": Translon_7,\n",
        "    \"Translon 8\": Translon_8,\n",
        "    \"Translon 9\": Translon_9,\n",
        "    \"Translon 110\": Translon_10,\n",
        "    \"Translon 11\": Translon_11,\n",
        "\n",
        "    }\n",
        "\n",
        "g = RDG(name=Locus_Name, locus_stop=Transcript_length)\n",
        "\n",
        "\n",
        "for translon in Translons:\n",
        "  if Translons[translon] != \"\":\n",
        "    try:\n",
        "      start_stop = [int(i) for i in Translons[translon].split(\",\")]\n",
        "    except:\n",
        "      raise Exception(\"Translon 1 Start or Stop Codon position is invalid\")\n",
        "\n",
        "    g.add_open_reading_frame(\n",
        "        start_codon_position=int(start_stop[0]),\n",
        "        stop_codon_position=int(start_stop[1]),\n",
        "        reinitiation=Allow_reinitiation\n",
        "        )\n",
        "\n",
        "plot(g, color_dict=no_node_color_dict)"
      ],
      "metadata": {
        "colab": {
          "base_uri": "https://localhost:8080/",
          "height": 549
        },
        "id": "iBCEV_5vGRTI",
        "outputId": "b00f20f1-2a78-4a52-d633-ba6a7534bab7",
        "cellView": "form"
      },
      "execution_count": 2,
      "outputs": [
        {
          "output_type": "execute_result",
          "data": {
            "text/plain": [
              "(<Figure size 640x480 with 2 Axes>,\n",
              " <Axes: >,\n",
              " <Axes: xlabel='Coordinates (nt)'>)"
            ]
          },
          "metadata": {},
          "execution_count": 2
        },
        {
          "output_type": "display_data",
          "data": {
            "text/plain": [
              "<Figure size 640x480 with 2 Axes>"
            ],
            "image/png": "[encoded data removed]"
          },
          "metadata": {}
        }
      ]
    },
    {
      "cell_type": "code",
      "source": [
        "#@title 2 v2. Build Visualise Ribosome Decsion Graph\n",
        "\n",
        "#@markdown Executing this cell using the <b>Play</b> button on the left will\n",
        "#@markdown render a RDG visualisation below.\n",
        "\n",
        "#@markdown Depending on the rules/assumptions made during graph construction we\n",
        "#@markdown will obtain greatly differnt graphs. Fill in the fields below to\n",
        "#@markdown set the 'rules' for this graph as well as other visualisation paramaters\n",
        "\n",
        "Locus_Name = \"ATF4\"  #@param {type:\"string\"}\n",
        "Transcript_length = 2000 #@param {type:\"integer\"}\n",
        "\n",
        "Allow_reinitiation = False #@param {type:\"boolean\"}\n",
        "#@markdown Distance after a stop required for reinitiation to be possible\n",
        "Reinitiation_base_limit = 0 #@param {type:\"integer\"}\n",
        "\n",
        "import ipywidgets as widgets\n",
        "\n",
        "t1 = widgets.FloatRangeSlider(\n",
        "    value=[486, 649],\n",
        "    min=0,\n",
        "    max=Transcript_length,\n",
        "    step=1,\n",
        "    description='Translon 1:',\n",
        "    disabled=False,\n",
        "    continuous_update=False,\n",
        "    orientation='horizontal',\n",
        "    readout=True,\n",
        "    readout_format='.1f',\n",
        "    layout=widgets.Layout(width='50%', height='40px')\n",
        ")\n",
        "t2 = widgets.FloatRangeSlider(\n",
        "    value=[700, 891],\n",
        "    min=0,\n",
        "    max=Transcript_length,\n",
        "    step=1,\n",
        "    description='Translon 2:',\n",
        "    disabled=False,\n",
        "    continuous_update=False,\n",
        "    orientation='horizontal',\n",
        "    readout=True,\n",
        "    readout_format='.1f',\n",
        "    layout=widgets.Layout(width='50%', height='40px')\n",
        ")\n",
        "t3 = widgets.FloatRangeSlider(\n",
        "    value=[888, 1943],\n",
        "    min=0,\n",
        "    max=Transcript_length,\n",
        "    step=1,\n",
        "    description='Translon 3:',\n",
        "    disabled=False,\n",
        "    continuous_update=False,\n",
        "    orientation='horizontal',\n",
        "    readout=True,\n",
        "    readout_format='.1f',\n",
        "    layout=widgets.Layout(width='50%', height='40px')\n",
        ")\n",
        "t4 = widgets.FloatRangeSlider(\n",
        "    value=[0, 0],\n",
        "    min=0,\n",
        "    max=Transcript_length,\n",
        "    step=1,\n",
        "    description='Translon 4:',\n",
        "    disabled=False,\n",
        "    continuous_update=False,\n",
        "    orientation='horizontal',\n",
        "    readout=True,\n",
        "    readout_format='.1f',\n",
        "    layout=widgets.Layout(width='50%', height='40px')\n",
        ")\n",
        "t5 = widgets.FloatRangeSlider(\n",
        "    value=[0, 0],\n",
        "    min=0,\n",
        "    max=Transcript_length,\n",
        "    step=1,\n",
        "    description='Translon 5:',\n",
        "    disabled=False,\n",
        "    continuous_update=False,\n",
        "    orientation='horizontal',\n",
        "    readout=True,\n",
        "    readout_format='.1f',\n",
        "    layout=widgets.Layout(width='50%', height='40px')\n",
        ")\n",
        "display(t1, t2, t3, t4, t5)\n"
      ],
      "metadata": {
        "colab": {
          "base_uri": "https://localhost:8080/",
          "height": 229,
          "referenced_widgets": [
            "4b43798b007245b4a0c12b2918a40b4f",
            "0f6728fba0e146699befdce8013c361b",
            "cc465006683641afaf29f2a42544c3a2",
            "afa8816a132f46b4b34b6e16dfa1a36a",
            "6047bb79e9d44afbbc8f15eebb285eb9",
            "9d75d468b40f4794a627e301b674a18d",
            "1eaa8ca1b8004b418d64ea23464e8802",
            "349ba566fba041b584a9bf72cc381e27",
            "ccb94a8a6d794ba08a607b66d155dc98",
            "9cbab6db85694f83be3b2fbd8ff85fcf",
            "d5933d2334a9413a854eb51a3b08768b",
            "d46e079ab3cc4c799e84eddfa2657020",
            "cdf58d0aeff3424aab24fb69f3ff5ce0",
            "06e61e1a5ec9475bbc7804e5a285571b",
            "99cc0b5e71e04b7c8c65930b9c257d7d"
          ]
        },
        "cellView": "form",
        "id": "KM-E1hUzAJmM",
        "outputId": "5c0afeed-56f3-4200-e11a-4ec2aac38472"
      },
      "execution_count": 3,
      "outputs": [
        {
          "output_type": "display_data",
          "data": {
            "text/plain": [
              "FloatRangeSlider(value=(486.0, 649.0), continuous_update=False, description='Translon 1:', layout=Layout(heigh…"
            ],
            "application/vnd.jupyter.widget-view+json": {
              "version_major": 2,
              "version_minor": 0,
              "model_id": "4b43798b007245b4a0c12b2918a40b4f"
            }
          },
          "metadata": {}
        },
        {
          "output_type": "display_data",
          "data": {
            "text/plain": [
              "FloatRangeSlider(value=(700.0, 891.0), continuous_update=False, description='Translon 2:', layout=Layout(heigh…"
            ],
            "application/vnd.jupyter.widget-view+json": {
              "version_major": 2,
              "version_minor": 0,
              "model_id": "afa8816a132f46b4b34b6e16dfa1a36a"
            }
          },
          "metadata": {}
        },
        {
          "output_type": "display_data",
          "data": {
            "text/plain": [
              "FloatRangeSlider(value=(888.0, 1943.0), continuous_update=False, description='Translon 3:', layout=Layout(heig…"
            ],
            "application/vnd.jupyter.widget-view+json": {
              "version_major": 2,
              "version_minor": 0,
              "model_id": "1eaa8ca1b8004b418d64ea23464e8802"
            }
          },
          "metadata": {}
        },
        {
          "output_type": "display_data",
          "data": {
            "text/plain": [
              "FloatRangeSlider(value=(0.0, 0.0), continuous_update=False, description='Translon 4:', layout=Layout(height='4…"
            ],
            "application/vnd.jupyter.widget-view+json": {
              "version_major": 2,
              "version_minor": 0,
              "model_id": "9cbab6db85694f83be3b2fbd8ff85fcf"
            }
          },
          "metadata": {}
        },
        {
          "output_type": "display_data",
          "data": {
            "text/plain": [
              "FloatRangeSlider(value=(0.0, 0.0), continuous_update=False, description='Translon 5:', layout=Layout(height='4…"
            ],
            "application/vnd.jupyter.widget-view+json": {
              "version_major": 2,
              "version_minor": 0,
              "model_id": "cdf58d0aeff3424aab24fb69f3ff5ce0"
            }
          },
          "metadata": {}
        }
      ]
    },
    {
      "cell_type": "code",
      "source": [
        "#@title Once you have set your Translon ranges it <b>Play</b> to render the graph!\n",
        "\n",
        "Translons = {\n",
        "    \"Translon 1\": t1.value,\n",
        "    \"Translon 2\": t2.value,\n",
        "    \"Translon 3\": t3.value,\n",
        "    # \"Translon 4\": t4.value,\n",
        "    # \"Translon 5\": t5.value,\n",
        "    }\n",
        "\n",
        "\n",
        "g = RDG(name=Locus_Name, locus_stop=Transcript_length)\n",
        "\n",
        "for translon in Translons:\n",
        "  if Translons[translon][0] != Translons[translon][1]:\n",
        "    g.add_open_reading_frame(\n",
        "        start_codon_position=int(Translons[translon][0]),\n",
        "        stop_codon_position=int(Translons[translon][1]),\n",
        "        reinitiation=Allow_reinitiation,\n",
        "        )\n",
        "plot(g, color_dict=no_node_color_dict, allow_reinitiation=Allow_reinitiation)"
      ],
      "metadata": {
        "colab": {
          "base_uri": "https://localhost:8080/",
          "height": 549
        },
        "cellView": "form",
        "id": "Y-BHA585NA51",
        "outputId": "83ee938e-3dda-4451-a8bc-635ac1b9a674"
      },
      "execution_count": 4,
      "outputs": [
        {
          "output_type": "execute_result",
          "data": {
            "text/plain": [
              "(<Figure size 640x480 with 2 Axes>,\n",
              " <Axes: >,\n",
              " <Axes: xlabel='Coordinates (nt)'>)"
            ]
          },
          "metadata": {},
          "execution_count": 4
        },
        {
          "output_type": "display_data",
          "data": {
            "text/plain": [
              "<Figure size 640x480 with 2 Axes>"
            ],
            "image/png": "[encoded data removed]"
          },
          "metadata": {}
        }
      ]
    },
    {
      "cell_type": "code",
      "source": [],
      "metadata": {
        "id": "b1u2F-ZB8xSA"
      },
      "execution_count": 4,
      "outputs": []
    },
    {
      "cell_type": "code",
      "source": [
        "#@title 3. Build Visualise Ribosome Decsion Graph - From Sequence\n",
        "\n",
        "#@markdown Executing this cell using the <b>Play</b> button on the left will\n",
        "#@markdown render a RDG visualisation below.\n",
        "\n",
        "#@markdown Provide transcript sequence and specified graph construction\n",
        "#@markdown paramaters below:\n",
        "\n",
        "from RDG.sequence_to_RDG import extract_translons\n",
        "\n",
        "Locus_Name = \"Example\"  #@param {type:\"string\"}\n",
        "\n",
        "#@markdown Transcript Sequence (No FASTA Header):\n",
        "sequence = \"CTGAAGCCGCGCGTGCGCAGAGCGGCGCGGGGTTACTGCGGCCCCGGCGTGGGTGGGGCGCTTGCAGGTCCATGCTCCCCGCGCAAGTGCTCGCCCCGCCCCCGGGGCCGCACCCACAGCCCCGGCTACCCCGGAGAAGCCTGACTTGAGAACCCTTTCTGCAGAGTCCCGGCAGTGCGGGAC TCCGGTAGCCGCCCCTCCGGTAGCCGCCCCTCCTGCCCCCGCGCCGCCGCCCTATATGTT GCCCGCCGCGGCCTCTGGGGCATGGAGCACGCTGCCCAGCCCTGGCGATGGCAACGGCGA CGGGGGTGGCGGAGGAGCGCCTGCTGGCCGCGCTCGCCTACCTGCAGTGCGCCGTGGGCT GCGCGGTCTTCGCGCGCAATCGTCAGACGAACTCAGTGTACGGCCGCCACGCGCTGCCCA GCCACAGGCTCCGAGTGCCGGCGCGGGCCGCCTGGGTGGTGCAGGAGCTGCCCTCGCTGG CCCTGCCGCTCTACCAGTACGCCAGCGAGTCCGCCCCGCGTCTCCGCAGCGCGCCCAACT GCATCCTCCTGGCCATGTTCCTCGTCCACTACGGGCATCGGAAATGTTGGTATGCAAGCA CTTGCAGTGTGCCTACATCCCAAATGCCAGCCCATGGTACCCATTGTCTGCCCGGATCTG AATCATGATTCCAAGACGCAGAGAGAAATTGCTGGGATTCGTTGTTCTTATTCATTGCTT GGCAACACTGCAGCTTCCAGGAGAATACCCACCTCACTGATGACACAACATCTGAATGCA CACTTACTGGCCAACACGTGCTTTGCTGTAAATCAGTATGAAGTCTTCCTAGGGGTCCTG GCCTGAATGAGATGAGAACCTTGGAGGCTGCTTTTGACTCATGTGAATGTCTTCCCCAGG AGTTAAGTGGGAGTGCTGGGGAGAGAGTGGCTTGAGGATGCACAGCCAGCATGACACTAC TATTATGTGATTACTGTCGACGTTCATAACCATAACTAATGACTAATTATGACTTTACCC TGGCGCACATGGTCAGAATGGAAACAAATAACAAGCTTTACAGTTTTTCCTGCTCTATTA AGGTGCTTAATTTACCCATTTCTGATGCGAGGAGGAAAGCCTATGCCACTGTTGGCGTGT ACAATGGCGATTATGTTCTGTACCTGTAACGGCTATTTGCAAAGCAGATACTTGAGCCAT TGTGCAGTGTATGCTGATGACTGGGTAACAGATCCCCGTTTTCTAATAGGTTTTGGCTTG TGGTTAACGGGCATGTTGATAAACATCCATTCAGATCATATCCTAAGGAATCTCAGAAAA CCAGGAGATACTGGATACAAAATACCAAGGGGAGGCTTATTTGAATACGTAACTGCAGCC AACTATTTTGGAGAAATCATGGAGTGGTGTGGCTATGCCCTGGCCAGCTGGTCTGTCCAA GGCGCGGCTTTTGCTTTCTTCACGTTTTGTTTTTTATCTGGTAGAGCAAAAGAGCATCAT GAGTGGTACCTCCGGAAATTTGAAGAGTATCCAAAGTTCAGAAAAATTATAATTCCATTT TTGTTTTAAGTGCGTTTTTCATGAAATTATCTTCAACTTGAAGCTTTCCAATGGCGCTTC TCTATGGACTTTGTAAATAAGTTATATCTTTGTAATTTTCCTGCTACTTTATCATTTTCA AGATGTCCTCTAGGAATTTTTTTTCTAGTAATTTTGCAATCTACCTAATAAGTACCTAAA TACGCTGAAATGGAGGTTGAATATCCTACTGTGTAACAGGTCAGAATTTCAAGCTCTGGG TAATAACTGCTGATATTTTTTCTAATTTCAAATTTACCTCTTTTGGCTATGTCTTGCCAA GTGTGTATGAGACTAGACTTTACAACTGTCTTTGATGGCATTTTCAGAACAATAAATGTC ACAATCCCTTCTATAGCCCCCTACAGTGATCTCTTCAAGGTCAACTGCAGTGTTGCTTCC CTCCCCCTATAGGGCTGGAATCTGTCTAGGAGCCCTCTCTCGGAGGCCACAGAGGCTGGG GGTAGCCATTGTGCAGTCATGGCCCGGGGGAAACTTGCCAACCTTCGTGTCAGGTGCTGT GTGTAAGTGGAGAACTTGGGGATAGAGGAGGAAGCTCCTCGTGGCCCTTC\" #@param {type:\"string\"}\n",
        "\n",
        "#@markdown Start Codons to Consider:\n",
        "start_codons = \"ATG\" #@param {type:\"string\"}\n",
        "\n",
        "minimum_length = 30 #@param {type:\"integer\"}\n",
        "\n",
        "#@markdown Number of Start Codons at which the Ribosome will initiate:\n",
        "Number_of_Starts = 10 #@param {type:\"integer\"}\n",
        "\n",
        "#@markdown Max number of Translons on reinitiation path\n",
        "reinitiation_limit = 0 #@param {type:\"integer\"}\n",
        "Allow_reinitiation = False #@param {type:\"boolean\"}\n",
        "\n",
        "translons = extract_translons(sequence, starts=start_codons.split(','), min_length=minimum_length)\n",
        "\n",
        "print(translons)\n",
        "dg = RDG(name=Locus_Name, locus_stop=len(sequence))\n",
        "\n",
        "for translon_start, translon_stop in sorted(translons)[:Number_of_Starts]:\n",
        "    dg.add_open_reading_frame(\n",
        "        translon_start,\n",
        "        translon_stop,\n",
        "        reinitiation=Allow_reinitiation,\n",
        "        upstream_limit=reinitiation_limit,\n",
        "    )\n",
        "\n",
        "plot(dg, color_dict=no_node_color_dict)"
      ],
      "metadata": {
        "colab": {
          "base_uri": "https://localhost:8080/",
          "height": 586
        },
        "id": "ZoV1kKcnRblv",
        "outputId": "fb901466-7d86-4376-fc79-84bb106648b3"
      },
      "execution_count": 5,
      "outputs": [
        {
          "output_type": "stream",
          "name": "stdout",
          "text": [
            "[(71, 148), (239, 679), (266, 679), (292, 834), (564, 824), (593, 679), (601, 834), (634, 834), (644, 679), (676, 834), (772, 834), (788, 1015), (866, 1015), (953, 1015), (1015, 1068), (1025, 1108), (1046, 1108), (1055, 1108), (1123, 1188), (1141, 1188), (1163, 1237), (1172, 1237), (1294, 1386), (1422, 1508), (1438, 1548), (1651, 1767), (1711, 1767), (1879, 1926), (1898, 1981), (1947, 2042), (2093, 2185)]\n"
          ]
        },
        {
          "output_type": "execute_result",
          "data": {
            "text/plain": [
              "(<Figure size 640x480 with 2 Axes>,\n",
              " <Axes: >,\n",
              " <Axes: xlabel='Coordinates (nt)'>)"
            ]
          },
          "metadata": {},
          "execution_count": 5
        },
        {
          "output_type": "display_data",
          "data": {
            "text/plain": [
              "<Figure size 640x480 with 2 Axes>"
            ],
            "image/png": "[encoded data removed]"
          },
          "metadata": {}
        }
      ]
    },
    {
      "cell_type": "code",
      "source": [
        "#@title 4. Build Visualise Ribosome Decsion Graph - From Gene Name\n",
        "\n",
        "#@markdown Executing this cell using the <b>Play</b> button on the left will\n",
        "#@markdown render a RDG visualisation below.\n",
        "\n",
        "#@markdown Provide gene name and specified graph construction\n",
        "#@markdown paramaters below:\n",
        "import gget\n",
        "\n",
        "organism = \"homo_sapiens\" #@param {type:\"string\"}\n",
        "#@markdown <b>Please provide the organism name with an underscore eg \"mus_musculus\"</b>\n",
        "#@markdown <br>\n",
        "\n",
        "gene_name = \"ACTL10\" #@param {type:\"string\"}\n",
        "#@markdown OR\n",
        "ensembl_transcript_id = \"\" #@param {type: \"string\"}\n",
        "\n",
        "#@markdown <br>\n",
        "\n",
        "#@markdown Start Codons to Consider:\n",
        "start_codons = \"ATG, CTG,GTG\" #@param {type:\"string\"}\n",
        "\n",
        "#@markdown Number of Start Codons at which the Ribosome will initiate:\n",
        "Number_of_Starts = 6 #@param {type:\"integer\"}\n",
        "\n",
        "#@markdown Max number of Translons on reinitiation path\n",
        "reinitiation_limit = 1 #@param {type:\"integer\"}\n",
        "Allow_reinitiation = True #@param {type:\"boolean\"}\n",
        "if ensembl_transcript_id == \"\":\n",
        "  print(f\"Finding transcripts for {gene_name}\")\n",
        "  options = gget.search([gene_name], organism, release=111)['ensembl_id']\n",
        "  ensg = options[0]\n",
        "  seq_results = gget.seq(ensg, translate=False, isoforms=True)\n",
        "\n",
        "else:\n",
        "  ensg = ensembl_transcript_id\n",
        "  seq_results = gget.seq(ensg, translate=False)\n",
        "\n",
        "print(f\"Generating RDG for {ensg}\")\n",
        "\n",
        "gget_sequence = seq_results[1]\n",
        "\n",
        "tx_id = seq_results[0].split(' ')[0][1:]\n",
        "gene_name = f\"{gene_name} ({tx_id})\"\n",
        "\n",
        "tx_info_df = gget.info([tx_id])[['exon_starts', 'exon_ends']]\n",
        "exon_starts = tx_info_df.loc[tx_id, 'exon_starts']\n",
        "exon_ends = tx_info_df.loc[tx_id, 'exon_ends']\n",
        "base = (min(min(exon_starts), min(exon_ends)))\n",
        "updated_starts = [i - base for i in exon_starts]\n",
        "updated_ends = [i - base for i in exon_ends]\n",
        "updated_exons = zip(updated_starts, updated_ends)\n",
        "\n",
        "seqs = [gget_sequence[exon[0]:exon[1] + 1] for exon in updated_exons]\n",
        "tx_seq = ''.join(seqs)\n",
        "\n",
        "translons = extract_translons(tx_seq, starts=start_codons, min_length=0)\n",
        "dg = RDG(name=gene_name, locus_stop=len(tx_seq))\n",
        "\n",
        "for translon_start, translon_stop in sorted(translons)[:Number_of_Starts]:\n",
        "    dg.add_open_reading_frame(\n",
        "        translon_start,\n",
        "        translon_stop,\n",
        "        reinitiation=Allow_reinitiation,\n",
        "        upstream_limit=reinitiation_limit,\n",
        "    )\n",
        "plot(dg, color_dict=no_node_color_dict)"
      ],
      "metadata": {
        "colab": {
          "base_uri": "https://localhost:8080/",
          "height": 653
        },
        "id": "lqtWwhywqPfr",
        "outputId": "90f4c10c-a2d9-49fd-8548-2a9105bd9fbd",
        "cellView": "form"
      },
      "execution_count": 6,
      "outputs": [
        {
          "output_type": "stream",
          "name": "stdout",
          "text": [
            "Finding transcripts for ACTL10\n"
          ]
        },
        {
          "output_type": "stream",
          "name": "stderr",
          "text": [
            "INFO:gget.utils:Fetching results from database: homo_sapiens_core_111_38\n",
            "INFO:gget.utils:Total matches found: 1.\n",
            "INFO:gget.utils:Query time: 7.97 seconds.\n",
            "INFO:gget.utils:Requesting nucleotide sequences of all transcripts of ENSG00000288649 from Ensembl.\n"
          ]
        },
        {
          "output_type": "stream",
          "name": "stdout",
          "text": [
            "Generating RDG for ENSG00000288649\n"
          ]
        },
        {
          "output_type": "execute_result",
          "data": {
            "text/plain": [
              "(<Figure size 640x480 with 2 Axes>,\n",
              " <Axes: >,\n",
              " <Axes: xlabel='Coordinates (nt)'>)"
            ]
          },
          "metadata": {},
          "execution_count": 6
        },
        {
          "output_type": "display_data",
          "data": {
            "text/plain": [
              "<Figure size 640x480 with 2 Axes>"
            ],
            "image/png": "[encoded data removed]"
          },
          "metadata": {}
        }
      ]
    }
  ]
}